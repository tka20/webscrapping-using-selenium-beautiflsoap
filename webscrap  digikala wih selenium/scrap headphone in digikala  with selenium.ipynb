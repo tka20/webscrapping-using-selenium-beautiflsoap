{
 "cells": [
  {
   "cell_type": "code",
   "execution_count": 1,
   "id": "c3687379",
   "metadata": {},
   "outputs": [],
   "source": [
    "import pandas as pd\n",
    "from selenium import webdriver\n",
    "from selenium.webdriver.common.by import By # mousual for find element\n",
    "from selenium.webdriver.chrome.service import Service\n",
    "from selenium.webdriver.common.keys import Keys# active key in kbd like enter\n",
    "import time"
   ]
  },
  {
   "cell_type": "code",
   "execution_count": 2,
   "id": "1f258cdd",
   "metadata": {},
   "outputs": [],
   "source": [
    "url = 'https://www.digikala.com/'\n",
    "s = Service('D:\\ml\\web scrap\\chromedriver-win64\\chromedriver-win64/chromedriver.exe')  # set The path to your driver\n",
    "driver = webdriver.Chrome(service = s)#make driver \n",
    "driver.get(url)# send url to browser"
   ]
  },
  {
   "cell_type": "code",
   "execution_count": 3,
   "id": "581c1e79",
   "metadata": {},
   "outputs": [],
   "source": [
    "search_botton1=driver.find_element(By.XPATH, value ='//div[@class=\"lg:text-body-2 text-button-1 flex items-center h-full text-body-2 text-neutral-500\"]')\n",
    "\n",
    "search_botton1.click()"
   ]
  },
  {
   "cell_type": "code",
   "execution_count": 4,
   "id": "9ac5924d",
   "metadata": {},
   "outputs": [],
   "source": [
    "search_botton=driver.find_element(By.XPATH, value ='//input[@class=\"px-2 TextField_TextField__input__hFMFl text-subtitle w-full TextField_TextField__bwN9_ TextField_TextField--primary__IZ6Ku text-neutral-500 text-body-2 lg:text-body-2 text-button-1 h-full\"]')\n"
   ]
  },
  {
   "cell_type": "code",
   "execution_count": 5,
   "id": "01e42544",
   "metadata": {},
   "outputs": [],
   "source": [
    "search_botton.click()\n",
    "search_botton.send_keys('هدفون'+ Keys.ENTER)#after enter هدفون click enter for search\n",
    "#search_botton.send_keys('هدفون')"
   ]
  },
  {
   "cell_type": "markdown",
   "id": "448321f0",
   "metadata": {},
   "source": [
    "# find how many scroll need in page to load all page"
   ]
  },
  {
   "cell_type": "code",
   "execution_count": 6,
   "id": "c3df644c",
   "metadata": {},
   "outputs": [
    {
     "data": {
      "text/plain": [
       "8539"
      ]
     },
     "execution_count": 6,
     "metadata": {},
     "output_type": "execute_result"
    }
   ],
   "source": [
    "time.sleep(3)\n",
    "end_scroll=driver.execute_script('return (document.body.scrollHeight)')#number  all scrol return\n",
    "time.sleep(3)\n",
    "end_scroll"
   ]
  },
  {
   "cell_type": "code",
   "execution_count": 7,
   "id": "dd9843b6",
   "metadata": {},
   "outputs": [],
   "source": [
    "while True:\n",
    "    driver.execute_script('window.scrollTo(0,document.body.scrollHeight);')\n",
    "    time.sleep(3)\n",
    "    my_scroll=driver.execute_script('return (document.body.scrollHeight)')#aim to each end of page\n",
    "    if my_scroll==end_scroll:\n",
    "        break\n",
    "    end_scroll=my_scroll"
   ]
  },
  {
   "cell_type": "markdown",
   "id": "4b027f12",
   "metadata": {},
   "source": [
    "# find div to access all items"
   ]
  },
  {
   "cell_type": "code",
   "execution_count": 8,
   "id": "9ffadfeb",
   "metadata": {},
   "outputs": [
    {
     "data": {
      "text/plain": [
       "22"
      ]
     },
     "execution_count": 8,
     "metadata": {},
     "output_type": "execute_result"
    }
   ],
   "source": [
    "#all_items=driver.find_elements(By.XPATH,value='//div[@class=\"flex items-stretch flex-col relative mb-1\"]')\n",
    "all_items=driver.find_elements(By.XPATH,value='//a[@class=\"block cursor-pointer relative bg-neutral-000 overflow-hidden grow py-3 px-4 lg:px-2 h-full styles_VerticalProductCard--hover__ud7aD\"]')\n",
    "len(all_items)"
   ]
  },
  {
   "cell_type": "code",
   "execution_count": 14,
   "id": "d5a2d8b7",
   "metadata": {},
   "outputs": [],
   "source": [
    "#none or -1 use when data missing for this value.\n",
    "data=[]\n",
    "for item in all_items:\n",
    "        try:\n",
    "            name=item.find_element(By.XPATH, value ='.//h3[@class=\"ellipsis-2 text-body2-strong text-neutral-700 styles_VerticalProductCard__productTitle__6zjjN\"]').text\n",
    "        except:\n",
    "            name='none'\n",
    "        try:\n",
    "            star_item=item.find_element(By.XPATH, value =\".//p[@class='text-body2-strong text-neutral-700']\").text\n",
    "        except:\n",
    "           star_item=-1\n",
    "        try:\n",
    "            price_item=item.find_element(By.XPATH, value ='.//span[@data-testid=\"price-final\"]').text\n",
    "        except:\n",
    "            price_item=-1\n",
    "        try:\n",
    "            price_discount=item.find_element(By.XPATH,value='.//span[@class=\"text-body2-strong\"]').text\n",
    "        except:\n",
    "           price_discount=-1    \n",
    "        data.append([star_item,price_item,price_discount,name])\n",
    "\n",
    "\n"
   ]
  },
  {
   "cell_type": "code",
   "execution_count": 15,
   "id": "8dea9055",
   "metadata": {},
   "outputs": [
    {
     "data": {
      "text/plain": [
       "[['۴.۵', '۷۸۹,۰۰۰', '۶٪', 'هدفون بلوتوثی انکر مدل SoundCore R50i A3949'],\n",
       " ['۴.۵', '۴,۹۶۹,۰۰۰', '۶٪', 'هدفون بلوتوثی سامسونگ مدل Galaxy Buds2 Pro'],\n",
       " [-1, '۷۸۲,۰۰۰', '۵۴٪', 'هدست بلوتوثی مدل K5PRO'],\n",
       " [-1, '۵۸۸,۰۰۰', '۵۱٪', 'هندزفری بلوتوثی مدل TWS 02'],\n",
       " ['۴.۴', '۶۶۹,۰۰۰', -1, 'هدفون بلوتوثی کیو سی وای مدل T13 TWS'],\n",
       " ['۴.۵', '۷۲۵,۰۰۰', -1, 'هدفون بلوتوثی کیو سی وای مدل T13 ANC 2'],\n",
       " ['۴.۴', '۶۲۰,۸۴۰', -1, 'هدفون بلوتوثی کیو سی وای مدل T13x'],\n",
       " ['۴.۵', '۲,۵۱۰,۰۰۰', -1, 'هدفون بلوتوثی سامسونگ مدل Galaxy Buds FE'],\n",
       " ['۴.۲', '۷۴۸,۰۰۰', -1, 'هدفون بلوتوثی کیو سی وای مدل T20 AilyPods'],\n",
       " ['۳.۸', '۱۳۳,۳۲۰', -1, 'هدفون بلوتوثی مدل inPods 12'],\n",
       " ['۳.۷', '۱۴۵,۰۰۰', -1, 'هدفون بلوتوثی مدل air pods m19'],\n",
       " ['۴.۳', '۵,۴۳۹,۰۰۰', '۹٪', 'هدفون بلوتوثی اپل مدل AirPods New Generation'],\n",
       " ['۴.۱', '۹۳۹,۰۰۰', -1, 'هدفون بلوتوثی استوریا مدل ST-HP01'],\n",
       " ['۴.۳', '۱۱,۵۶۰,۰۰۰', -1, 'هدفون بلوتوثی اپل مدل AirPods Pro 2nd Generation'],\n",
       " ['۴.۵', '۷۲۸,۰۰۰', -1, 'هدفون بلوتوثی انکر مدل Soundcore P25i'],\n",
       " ['۴.۶', '۲۶,۲۹۰,۰۰۰', -1, 'هدفون بلوتوثی اپل مدل AirPods Max'],\n",
       " ['۴.۵', '۱,۷۳۰,۰۰۰', -1, 'هدفون بلوتوثی شیائومی مدل Redmi Buds 5'],\n",
       " ['۳.۷', '۱۷۷,۸۶۰', -1, 'هدفون بلوتوثی مدل M28-C-Damax 2023 version C'],\n",
       " ['۴.۳', '۶۵۹,۰۰۰', '۲۷٪', 'هدفون بلوتوثی اکسیژن مدل E12'],\n",
       " ['۴.۳', '۱,۱۴۰,۰۰۰', -1, 'هدفون مخصوص بازی اونیکوما مدل k10 Pro'],\n",
       " ['۴.۴', '۶۹۷,۵۸۰', -1, 'هدفون بلوتوثی کیو سی وای مدل T13 ANC'],\n",
       " ['۳.۵', '۱۴۵,۱۲۰', -1, 'هدفون بی سیم  مدل M19 Newest']]"
      ]
     },
     "execution_count": 15,
     "metadata": {},
     "output_type": "execute_result"
    }
   ],
   "source": [
    "data\n",
    "#all_items\n"
   ]
  },
  {
   "cell_type": "markdown",
   "id": "0960b34b",
   "metadata": {},
   "source": [
    "# create dataframe"
   ]
  },
  {
   "cell_type": "code",
   "execution_count": 20,
   "id": "fb9ab578",
   "metadata": {},
   "outputs": [],
   "source": [
    "df=pd.DataFrame(data,columns=['star_item','price_item','price_discount','name'])"
   ]
  },
  {
   "cell_type": "code",
   "execution_count": 21,
   "id": "a877ef9d",
   "metadata": {},
   "outputs": [
    {
     "data": {
      "text/html": [
       "<div>\n",
       "<style scoped>\n",
       "    .dataframe tbody tr th:only-of-type {\n",
       "        vertical-align: middle;\n",
       "    }\n",
       "\n",
       "    .dataframe tbody tr th {\n",
       "        vertical-align: top;\n",
       "    }\n",
       "\n",
       "    .dataframe thead th {\n",
       "        text-align: right;\n",
       "    }\n",
       "</style>\n",
       "<table border=\"1\" class=\"dataframe\">\n",
       "  <thead>\n",
       "    <tr style=\"text-align: right;\">\n",
       "      <th></th>\n",
       "      <th>star_item</th>\n",
       "      <th>price_item</th>\n",
       "      <th>price_discount</th>\n",
       "      <th>name</th>\n",
       "    </tr>\n",
       "  </thead>\n",
       "  <tbody>\n",
       "    <tr>\n",
       "      <th>0</th>\n",
       "      <td>۴.۵</td>\n",
       "      <td>۷۸۹,۰۰۰</td>\n",
       "      <td>۶٪</td>\n",
       "      <td>هدفون بلوتوثی انکر مدل SoundCore R50i A3949</td>\n",
       "    </tr>\n",
       "    <tr>\n",
       "      <th>1</th>\n",
       "      <td>۴.۵</td>\n",
       "      <td>۴,۹۶۹,۰۰۰</td>\n",
       "      <td>۶٪</td>\n",
       "      <td>هدفون بلوتوثی سامسونگ مدل Galaxy Buds2 Pro</td>\n",
       "    </tr>\n",
       "    <tr>\n",
       "      <th>2</th>\n",
       "      <td>-1</td>\n",
       "      <td>۷۸۲,۰۰۰</td>\n",
       "      <td>۵۴٪</td>\n",
       "      <td>هدست بلوتوثی مدل K5PRO</td>\n",
       "    </tr>\n",
       "    <tr>\n",
       "      <th>3</th>\n",
       "      <td>-1</td>\n",
       "      <td>۵۸۸,۰۰۰</td>\n",
       "      <td>۵۱٪</td>\n",
       "      <td>هندزفری بلوتوثی مدل TWS 02</td>\n",
       "    </tr>\n",
       "    <tr>\n",
       "      <th>4</th>\n",
       "      <td>۴.۴</td>\n",
       "      <td>۶۶۹,۰۰۰</td>\n",
       "      <td>-1</td>\n",
       "      <td>هدفون بلوتوثی کیو سی وای مدل T13 TWS</td>\n",
       "    </tr>\n",
       "    <tr>\n",
       "      <th>5</th>\n",
       "      <td>۴.۵</td>\n",
       "      <td>۷۲۵,۰۰۰</td>\n",
       "      <td>-1</td>\n",
       "      <td>هدفون بلوتوثی کیو سی وای مدل T13 ANC 2</td>\n",
       "    </tr>\n",
       "    <tr>\n",
       "      <th>6</th>\n",
       "      <td>۴.۴</td>\n",
       "      <td>۶۲۰,۸۴۰</td>\n",
       "      <td>-1</td>\n",
       "      <td>هدفون بلوتوثی کیو سی وای مدل T13x</td>\n",
       "    </tr>\n",
       "    <tr>\n",
       "      <th>7</th>\n",
       "      <td>۴.۵</td>\n",
       "      <td>۲,۵۱۰,۰۰۰</td>\n",
       "      <td>-1</td>\n",
       "      <td>هدفون بلوتوثی سامسونگ مدل Galaxy Buds FE</td>\n",
       "    </tr>\n",
       "    <tr>\n",
       "      <th>8</th>\n",
       "      <td>۴.۲</td>\n",
       "      <td>۷۴۸,۰۰۰</td>\n",
       "      <td>-1</td>\n",
       "      <td>هدفون بلوتوثی کیو سی وای مدل T20 AilyPods</td>\n",
       "    </tr>\n",
       "    <tr>\n",
       "      <th>9</th>\n",
       "      <td>۳.۸</td>\n",
       "      <td>۱۳۳,۳۲۰</td>\n",
       "      <td>-1</td>\n",
       "      <td>هدفون بلوتوثی مدل inPods 12</td>\n",
       "    </tr>\n",
       "    <tr>\n",
       "      <th>10</th>\n",
       "      <td>۳.۷</td>\n",
       "      <td>۱۴۵,۰۰۰</td>\n",
       "      <td>-1</td>\n",
       "      <td>هدفون بلوتوثی مدل air pods m19</td>\n",
       "    </tr>\n",
       "    <tr>\n",
       "      <th>11</th>\n",
       "      <td>۴.۳</td>\n",
       "      <td>۵,۴۳۹,۰۰۰</td>\n",
       "      <td>۹٪</td>\n",
       "      <td>هدفون بلوتوثی اپل مدل AirPods New Generation</td>\n",
       "    </tr>\n",
       "    <tr>\n",
       "      <th>12</th>\n",
       "      <td>۴.۱</td>\n",
       "      <td>۹۳۹,۰۰۰</td>\n",
       "      <td>-1</td>\n",
       "      <td>هدفون بلوتوثی استوریا مدل ST-HP01</td>\n",
       "    </tr>\n",
       "    <tr>\n",
       "      <th>13</th>\n",
       "      <td>۴.۳</td>\n",
       "      <td>۱۱,۵۶۰,۰۰۰</td>\n",
       "      <td>-1</td>\n",
       "      <td>هدفون بلوتوثی اپل مدل AirPods Pro 2nd Generation</td>\n",
       "    </tr>\n",
       "    <tr>\n",
       "      <th>14</th>\n",
       "      <td>۴.۵</td>\n",
       "      <td>۷۲۸,۰۰۰</td>\n",
       "      <td>-1</td>\n",
       "      <td>هدفون بلوتوثی انکر مدل Soundcore P25i</td>\n",
       "    </tr>\n",
       "    <tr>\n",
       "      <th>15</th>\n",
       "      <td>۴.۶</td>\n",
       "      <td>۲۶,۲۹۰,۰۰۰</td>\n",
       "      <td>-1</td>\n",
       "      <td>هدفون بلوتوثی اپل مدل AirPods Max</td>\n",
       "    </tr>\n",
       "    <tr>\n",
       "      <th>16</th>\n",
       "      <td>۴.۵</td>\n",
       "      <td>۱,۷۳۰,۰۰۰</td>\n",
       "      <td>-1</td>\n",
       "      <td>هدفون بلوتوثی شیائومی مدل Redmi Buds 5</td>\n",
       "    </tr>\n",
       "    <tr>\n",
       "      <th>17</th>\n",
       "      <td>۳.۷</td>\n",
       "      <td>۱۷۷,۸۶۰</td>\n",
       "      <td>-1</td>\n",
       "      <td>هدفون بلوتوثی مدل M28-C-Damax 2023 version C</td>\n",
       "    </tr>\n",
       "    <tr>\n",
       "      <th>18</th>\n",
       "      <td>۴.۳</td>\n",
       "      <td>۶۵۹,۰۰۰</td>\n",
       "      <td>۲۷٪</td>\n",
       "      <td>هدفون بلوتوثی اکسیژن مدل E12</td>\n",
       "    </tr>\n",
       "    <tr>\n",
       "      <th>19</th>\n",
       "      <td>۴.۳</td>\n",
       "      <td>۱,۱۴۰,۰۰۰</td>\n",
       "      <td>-1</td>\n",
       "      <td>هدفون مخصوص بازی اونیکوما مدل k10 Pro</td>\n",
       "    </tr>\n",
       "    <tr>\n",
       "      <th>20</th>\n",
       "      <td>۴.۴</td>\n",
       "      <td>۶۹۷,۵۸۰</td>\n",
       "      <td>-1</td>\n",
       "      <td>هدفون بلوتوثی کیو سی وای مدل T13 ANC</td>\n",
       "    </tr>\n",
       "    <tr>\n",
       "      <th>21</th>\n",
       "      <td>۳.۵</td>\n",
       "      <td>۱۴۵,۱۲۰</td>\n",
       "      <td>-1</td>\n",
       "      <td>هدفون بی سیم  مدل M19 Newest</td>\n",
       "    </tr>\n",
       "  </tbody>\n",
       "</table>\n",
       "</div>"
      ],
      "text/plain": [
       "   star_item  price_item price_discount  \\\n",
       "0        ۴.۵     ۷۸۹,۰۰۰             ۶٪   \n",
       "1        ۴.۵   ۴,۹۶۹,۰۰۰             ۶٪   \n",
       "2         -1     ۷۸۲,۰۰۰            ۵۴٪   \n",
       "3         -1     ۵۸۸,۰۰۰            ۵۱٪   \n",
       "4        ۴.۴     ۶۶۹,۰۰۰             -1   \n",
       "5        ۴.۵     ۷۲۵,۰۰۰             -1   \n",
       "6        ۴.۴     ۶۲۰,۸۴۰             -1   \n",
       "7        ۴.۵   ۲,۵۱۰,۰۰۰             -1   \n",
       "8        ۴.۲     ۷۴۸,۰۰۰             -1   \n",
       "9        ۳.۸     ۱۳۳,۳۲۰             -1   \n",
       "10       ۳.۷     ۱۴۵,۰۰۰             -1   \n",
       "11       ۴.۳   ۵,۴۳۹,۰۰۰             ۹٪   \n",
       "12       ۴.۱     ۹۳۹,۰۰۰             -1   \n",
       "13       ۴.۳  ۱۱,۵۶۰,۰۰۰             -1   \n",
       "14       ۴.۵     ۷۲۸,۰۰۰             -1   \n",
       "15       ۴.۶  ۲۶,۲۹۰,۰۰۰             -1   \n",
       "16       ۴.۵   ۱,۷۳۰,۰۰۰             -1   \n",
       "17       ۳.۷     ۱۷۷,۸۶۰             -1   \n",
       "18       ۴.۳     ۶۵۹,۰۰۰            ۲۷٪   \n",
       "19       ۴.۳   ۱,۱۴۰,۰۰۰             -1   \n",
       "20       ۴.۴     ۶۹۷,۵۸۰             -1   \n",
       "21       ۳.۵     ۱۴۵,۱۲۰             -1   \n",
       "\n",
       "                                                name  \n",
       "0        هدفون بلوتوثی انکر مدل SoundCore R50i A3949  \n",
       "1         هدفون بلوتوثی سامسونگ مدل Galaxy Buds2 Pro  \n",
       "2                             هدست بلوتوثی مدل K5PRO  \n",
       "3                         هندزفری بلوتوثی مدل TWS 02  \n",
       "4               هدفون بلوتوثی کیو سی وای مدل T13 TWS  \n",
       "5             هدفون بلوتوثی کیو سی وای مدل T13 ANC 2  \n",
       "6                  هدفون بلوتوثی کیو سی وای مدل T13x  \n",
       "7           هدفون بلوتوثی سامسونگ مدل Galaxy Buds FE  \n",
       "8          هدفون بلوتوثی کیو سی وای مدل T20 AilyPods  \n",
       "9                        هدفون بلوتوثی مدل inPods 12  \n",
       "10                    هدفون بلوتوثی مدل air pods m19  \n",
       "11      هدفون بلوتوثی اپل مدل AirPods New Generation  \n",
       "12                 هدفون بلوتوثی استوریا مدل ST-HP01  \n",
       "13  هدفون بلوتوثی اپل مدل AirPods Pro 2nd Generation  \n",
       "14             هدفون بلوتوثی انکر مدل Soundcore P25i  \n",
       "15                 هدفون بلوتوثی اپل مدل AirPods Max  \n",
       "16            هدفون بلوتوثی شیائومی مدل Redmi Buds 5  \n",
       "17      هدفون بلوتوثی مدل M28-C-Damax 2023 version C  \n",
       "18                      هدفون بلوتوثی اکسیژن مدل E12  \n",
       "19             هدفون مخصوص بازی اونیکوما مدل k10 Pro  \n",
       "20              هدفون بلوتوثی کیو سی وای مدل T13 ANC  \n",
       "21                      هدفون بی سیم  مدل M19 Newest  "
      ]
     },
     "execution_count": 21,
     "metadata": {},
     "output_type": "execute_result"
    }
   ],
   "source": [
    "df"
   ]
  },
  {
   "cell_type": "markdown",
   "id": "5e91dc1a",
   "metadata": {},
   "source": [
    "\n",
    "# save df to csv"
   ]
  },
  {
   "cell_type": "code",
   "execution_count": 23,
   "id": "de3cc6e5",
   "metadata": {},
   "outputs": [],
   "source": [
    "df.to_csv(\"headphon of digikala.csv\",index=False)"
   ]
  },
  {
   "cell_type": "markdown",
   "id": "20ba9a53",
   "metadata": {},
   "source": [
    "# find first item name"
   ]
  },
  {
   "cell_type": "code",
   "execution_count": null,
   "id": "bf4c688e",
   "metadata": {},
   "outputs": [],
   "source": [
    "name=driver.find_element(By.XPATH, value ='//h3[@class=\"ellipsis-2 text-body2-strong text-neutral-700 styles_VerticalProductCard__productTitle__6zjjN\"]').text\n",
    "name"
   ]
  },
  {
   "cell_type": "markdown",
   "id": "d4ce5e91",
   "metadata": {},
   "source": [
    "# find first item star"
   ]
  },
  {
   "cell_type": "code",
   "execution_count": null,
   "id": "a6182c33",
   "metadata": {},
   "outputs": [],
   "source": [
    "try:\n",
    "    star_item=driver.find_element(By.XPATH, value =\"//p[@class='text-body2-strong text-neutral-700']\").text\n",
    "except:\n",
    "    print(-1)\n",
    "star\n",
    "#//div[@class='flex items-center']"
   ]
  },
  {
   "cell_type": "markdown",
   "id": "bb896d52",
   "metadata": {},
   "source": [
    "# find first item price"
   ]
  },
  {
   "cell_type": "code",
   "execution_count": null,
   "id": "710db3c5",
   "metadata": {},
   "outputs": [],
   "source": [
    "try:\n",
    "    price_item=driver.find_element(By.XPATH, value ='//span[@data-testid=\"price-final\"]').text\n",
    "except:\n",
    "    print(-1)\n",
    "price_item"
   ]
  },
  {
   "cell_type": "markdown",
   "id": "7ec65767",
   "metadata": {},
   "source": [
    "# find first item price_discount "
   ]
  },
  {
   "cell_type": "code",
   "execution_count": null,
   "id": "d54c0d19",
   "metadata": {},
   "outputs": [],
   "source": [
    "price_discount=driver.find_element(By.XPATH,value='//span[@class=\"text-body2-strong\"]').text\n",
    "price_discount                                          "
   ]
  },
  {
   "cell_type": "markdown",
   "id": "652ff8b6",
   "metadata": {},
   "source": [
    "# find all item"
   ]
  },
  {
   "cell_type": "markdown",
   "id": "d3fd15fa",
   "metadata": {},
   "source": []
  },
  {
   "cell_type": "code",
   "execution_count": null,
   "id": "6799ba24",
   "metadata": {},
   "outputs": [],
   "source": []
  }
 ],
 "metadata": {
  "kernelspec": {
   "display_name": "Python 3 (ipykernel)",
   "language": "python",
   "name": "python3"
  },
  "language_info": {
   "codemirror_mode": {
    "name": "ipython",
    "version": 3
   },
   "file_extension": ".py",
   "mimetype": "text/x-python",
   "name": "python",
   "nbconvert_exporter": "python",
   "pygments_lexer": "ipython3",
   "version": "3.11.3"
  }
 },
 "nbformat": 4,
 "nbformat_minor": 5
}
