{
 "cells": [
  {
   "cell_type": "code",
   "execution_count": null,
   "id": "d9482d58",
   "metadata": {},
   "outputs": [],
   "source": []
  },
  {
   "cell_type": "code",
   "execution_count": 1,
   "id": "f58dce74",
   "metadata": {},
   "outputs": [],
   "source": [
    "import requests\n",
    "from bs4 import BeautifulSoup\n",
    "import pandas as pd\n",
    "import locale#transform text ,if is farsi or other language"
   ]
  },
  {
   "cell_type": "code",
   "execution_count": 2,
   "id": "36317fd5",
   "metadata": {},
   "outputs": [
    {
     "data": {
      "text/plain": [
       "'en_US.UTF-8'"
      ]
     },
     "execution_count": 2,
     "metadata": {},
     "output_type": "execute_result"
    }
   ],
   "source": [
    "locale.setlocale(locale.LC_ALL, 'en_US.UTF-8')\n",
    "#transform text ,if is farsi or other language"
   ]
  },
  {
   "cell_type": "code",
   "execution_count": null,
   "id": "3dfa462f",
   "metadata": {},
   "outputs": [],
   "source": []
  },
  {
   "cell_type": "code",
   "execution_count": 11,
   "id": "d7d4ebdd",
   "metadata": {},
   "outputs": [],
   "source": [
    "url='https://www.opencodez.com/'"
   ]
  },
  {
   "cell_type": "code",
   "execution_count": 12,
   "id": "8be49627",
   "metadata": {},
   "outputs": [],
   "source": [
    "response=requests.get(url)"
   ]
  },
  {
   "cell_type": "code",
   "execution_count": 13,
   "id": "0814406f",
   "metadata": {},
   "outputs": [
    {
     "data": {
      "text/plain": [
       "200"
      ]
     },
     "execution_count": 13,
     "metadata": {},
     "output_type": "execute_result"
    }
   ],
   "source": [
    "response.status_code\n",
    "#rest correct answer"
   ]
  },
  {
   "cell_type": "code",
   "execution_count": 15,
   "id": "e1cc5d1c",
   "metadata": {},
   "outputs": [],
   "source": [
    "bs=BeautifulSoup(response.content,'html.parser')"
   ]
  },
  {
   "cell_type": "code",
   "execution_count": 16,
   "id": "b09d6dcb",
   "metadata": {},
   "outputs": [],
   "source": [
    "last_post=bs.find('div',attrs={'class':'latest-section'})"
   ]
  },
  {
   "cell_type": "code",
   "execution_count": 17,
   "id": "7482fcc5",
   "metadata": {},
   "outputs": [
    {
     "data": {
      "text/plain": [
       "<div class=\"latest-section\">\n",
       "<h3 class=\"frontTitle\"><div class=\"latest\">Latest</div></h3>\n",
       "<article class=\"pexcerpt0 post excerpt\">\n",
       "<a href=\"https://www.opencodez.com/python/python-tutorial-2-python-vs-java.htm\" id=\"featured-thumbnail\" title=\"Python Tutorial :#2 Python Vs Java\">\n",
       "<div class=\"featured-thumbnail\"><img alt=\"\" class=\"attachment-featured size-featured wp-post-image\" height=\"100\" src=\"https://www.opencodez.com/wp-content/uploads/2022/03/python-vs-java-150x100.png\" title=\"\" width=\"150\"/></div> </a>\n",
       "<header>\n",
       "<h2 class=\"title\">\n",
       "<a href=\"https://www.opencodez.com/python/python-tutorial-2-python-vs-java.htm\" rel=\"bookmark\" title=\"Python Tutorial :#2 Python Vs Java\">Python Tutorial :#2 Python Vs Java</a>\n",
       "</h2>\n",
       "</header>\n",
       "<div class=\"post-content image-caption-format-1\">\n",
       "<p>\n",
       "As we know Python and Java, Both the languages are powerful and both the languages provide many great frameworks. But the question is when to use which language? So, in </p>\n",
       "<div class=\"post-info\"><span class=\"theauthor\"><i class=\"icon-user\"></i> <a href=\"https://www.opencodez.com/author/supriyak\" rel=\"author\" title=\"Posts by Supriya\">Supriya</a></span> <span class=\"thetime\"><i class=\"icon-calendar\"></i> Mar 10, 2022</span></div>\n",
       "<div class=\"readMore\"><a href=\"https://www.opencodez.com/python/python-tutorial-2-python-vs-java.htm\" rel=\"bookmark\" title=\"Python Tutorial :#2 Python Vs Java\">Read More +</a></div>\n",
       "</div>\n",
       "</article>\n",
       "<article class=\"pexcerpt1 post excerpt last\">\n",
       "<a href=\"https://www.opencodez.com/python/python-tutorial-1-introduction-to-python.htm\" id=\"featured-thumbnail\" title=\"Python Tutorial : #1 Introduction to Python\">\n",
       "<div class=\"featured-thumbnail\"><img alt=\"Introduction to Python\" class=\"attachment-featured size-featured wp-post-image\" height=\"100\" src=\"https://www.opencodez.com/wp-content/uploads/2022/02/Python-150x100.jpg\" title=\"\" width=\"150\"/></div> </a>\n",
       "<header>\n",
       "<h2 class=\"title\">\n",
       "<a href=\"https://www.opencodez.com/python/python-tutorial-1-introduction-to-python.htm\" rel=\"bookmark\" title=\"Python Tutorial : #1 Introduction to Python\">Python Tutorial : #1 Introduction to Python</a>\n",
       "</h2>\n",
       "</header>\n",
       "<div class=\"post-content image-caption-format-1\">\n",
       "<p>\n",
       "Python is a most popular programming language which was created by Guido van Rossum and python is the successor of the ABC programming language. We will cover a brief Introduction </p>\n",
       "<div class=\"post-info\"><span class=\"theauthor\"><i class=\"icon-user\"></i> <a href=\"https://www.opencodez.com/author/supriyak\" rel=\"author\" title=\"Posts by Supriya\">Supriya</a></span> <span class=\"thetime\"><i class=\"icon-calendar\"></i> Feb 20, 2022</span></div>\n",
       "<div class=\"readMore\"><a href=\"https://www.opencodez.com/python/python-tutorial-1-introduction-to-python.htm\" rel=\"bookmark\" title=\"Python Tutorial : #1 Introduction to Python\">Read More +</a></div>\n",
       "</div>\n",
       "</article>\n",
       "<article class=\"pexcerpt2 post excerpt\">\n",
       "<a href=\"https://www.opencodez.com/java/chain-of-responsibility-pattern.htm\" id=\"featured-thumbnail\" title=\"Chain of Responsibility – Behavioral Design Pattern\">\n",
       "<div class=\"featured-thumbnail\"><img alt=\"Chain of Responsibility\" class=\"attachment-featured size-featured wp-post-image\" height=\"100\" src=\"https://www.opencodez.com/wp-content/uploads/2020/08/Java-Design-Patterns-150x100.png\" title=\"\" width=\"150\"/></div> </a>\n",
       "<header>\n",
       "<h2 class=\"title\">\n",
       "<a href=\"https://www.opencodez.com/java/chain-of-responsibility-pattern.htm\" rel=\"bookmark\" title=\"Chain of Responsibility – Behavioral Design Pattern\">Chain of Responsibility – Behavioral Design Pattern</a>\n",
       "</h2>\n",
       "</header>\n",
       "<div class=\"post-content image-caption-format-1\">\n",
       "<p>\n",
       "The Chain of Responsibility Pattern comes under Behavioral design pattern, the main motive of this pattern is to accomplish loose coupling in Software design process where the client request is </p>\n",
       "<div class=\"post-info\"><span class=\"theauthor\"><i class=\"icon-user\"></i> <a href=\"https://www.opencodez.com/author/supriyak\" rel=\"author\" title=\"Posts by Supriya\">Supriya</a></span> <span class=\"thetime\"><i class=\"icon-calendar\"></i> Aug 1, 2020</span></div>\n",
       "<div class=\"readMore\"><a href=\"https://www.opencodez.com/java/chain-of-responsibility-pattern.htm\" rel=\"bookmark\" title=\"Chain of Responsibility – Behavioral Design Pattern\">Read More +</a></div>\n",
       "</div>\n",
       "</article>\n",
       "<article class=\"pexcerpt3 post excerpt last\">\n",
       "<a href=\"https://www.opencodez.com/java/flyweight-pattern.htm\" id=\"featured-thumbnail\" title=\"Flyweight Pattern – Structural Design Pattern\">\n",
       "<div class=\"featured-thumbnail\"><img alt=\"Flyweight Pattern\" class=\"attachment-featured size-featured wp-post-image\" height=\"100\" src=\"https://www.opencodez.com/wp-content/uploads/2020/05/Flyweight-Pattern-Java-Design-Patterns-150x100.png\" title=\"\" width=\"150\"/></div> </a>\n",
       "<header>\n",
       "<h2 class=\"title\">\n",
       "<a href=\"https://www.opencodez.com/java/flyweight-pattern.htm\" rel=\"bookmark\" title=\"Flyweight Pattern – Structural Design Pattern\">Flyweight Pattern – Structural Design Pattern</a>\n",
       "</h2>\n",
       "</header>\n",
       "<div class=\"post-content image-caption-format-1\">\n",
       "<p>\n",
       "Flyweight pattern comes under Structural Design Patterns. By using this pattern we can decrease object count. When there is a need to create huge amount of similar objects then this </p>\n",
       "<div class=\"post-info\"><span class=\"theauthor\"><i class=\"icon-user\"></i> <a href=\"https://www.opencodez.com/author/supriyak\" rel=\"author\" title=\"Posts by Supriya\">Supriya</a></span> <span class=\"thetime\"><i class=\"icon-calendar\"></i> May 20, 2020</span></div>\n",
       "<div class=\"readMore\"><a href=\"https://www.opencodez.com/java/flyweight-pattern.htm\" rel=\"bookmark\" title=\"Flyweight Pattern – Structural Design Pattern\">Read More +</a></div>\n",
       "</div>\n",
       "</article>\n",
       "<article class=\"pexcerpt4 post excerpt\">\n",
       "<a href=\"https://www.opencodez.com/software-testing/become-full-stack-qa-engineer.htm\" id=\"featured-thumbnail\" title=\"What Is Full Stack QA or Tester? 4 Steps Guide For Beginners\">\n",
       "<div class=\"featured-thumbnail\"><img alt=\"Full Stack QA\" class=\"attachment-featured size-featured wp-post-image\" height=\"100\" sizes=\"(max-width: 100px) 100vw, 100px\" src=\"https://www.opencodez.com/wp-content/uploads/2019/10/Full-Stack-Developer-200x200.jpeg\" srcset=\"https://www.opencodez.com/wp-content/uploads/2019/10/Full-Stack-Developer-200x200.jpeg 200w, https://www.opencodez.com/wp-content/uploads/2019/10/Full-Stack-Developer-65x65.jpeg 65w\" title=\"\" width=\"100\"/></div> </a>\n",
       "<header>\n",
       "<h2 class=\"title\">\n",
       "<a href=\"https://www.opencodez.com/software-testing/become-full-stack-qa-engineer.htm\" rel=\"bookmark\" title=\"What Is Full Stack QA or Tester? 4 Steps Guide For Beginners\">What Is Full Stack QA or Tester? 4 Steps Guide For Beginners</a>\n",
       "</h2>\n",
       "</header>\n",
       "<div class=\"post-content image-caption-format-1\">\n",
       "<p>\n",
       "We have always heard the term full-stack developer but what about someone from QA background? Do we also have something like Full Stack QA Engineer? the answer is Yes! So, </p>\n",
       "<div class=\"post-info\"><span class=\"theauthor\"><i class=\"icon-user\"></i> <a href=\"https://www.opencodez.com/author/shilpas\" rel=\"author\" title=\"Posts by Shilpa\">Shilpa</a></span> <span class=\"thetime\"><i class=\"icon-calendar\"></i> May 18, 2020</span></div>\n",
       "<div class=\"readMore\"><a href=\"https://www.opencodez.com/software-testing/become-full-stack-qa-engineer.htm\" rel=\"bookmark\" title=\"What Is Full Stack QA or Tester? 4 Steps Guide For Beginners\">Read More +</a></div>\n",
       "</div>\n",
       "</article>\n",
       "<article class=\"pexcerpt5 post excerpt last\">\n",
       "<a href=\"https://www.opencodez.com/it-lifestyle/7-highly-effective-ways-professionals-can-prepare-recession.htm\" id=\"featured-thumbnail\" title=\"Recession 2020 -7 Highly Effective Ways IT Professionals Can Prepare\">\n",
       "<div class=\"featured-thumbnail\"><img alt=\"Recession 2020\" class=\"attachment-featured size-featured wp-post-image\" height=\"100\" sizes=\"(max-width: 100px) 100vw, 100px\" src=\"https://www.opencodez.com/wp-content/uploads/2020/04/Untitled-drawing1.png\" srcset=\"https://www.opencodez.com/wp-content/uploads/2020/04/Untitled-drawing1.png 200w, https://www.opencodez.com/wp-content/uploads/2020/04/Untitled-drawing1-65x65.png 65w\" title=\"\" width=\"100\"/></div> </a>\n",
       "<header>\n",
       "<h2 class=\"title\">\n",
       "<a href=\"https://www.opencodez.com/it-lifestyle/7-highly-effective-ways-professionals-can-prepare-recession.htm\" rel=\"bookmark\" title=\"Recession 2020 -7 Highly Effective Ways IT Professionals Can Prepare\">Recession 2020 -7 Highly Effective Ways IT Professionals Can Prepare</a>\n",
       "</h2>\n",
       "</header>\n",
       "<div class=\"post-content image-caption-format-1\">\n",
       "<p>\n",
       "Many say that another wave of Recession is approaching. On the internet, you will find several articles talking about an upcoming recession. I am not an economic expert, but the </p>\n",
       "<div class=\"post-info\"><span class=\"theauthor\"><i class=\"icon-user\"></i> <a href=\"https://www.opencodez.com/author/shilpas\" rel=\"author\" title=\"Posts by Shilpa\">Shilpa</a></span> <span class=\"thetime\"><i class=\"icon-calendar\"></i> Apr 27, 2020</span></div>\n",
       "<div class=\"readMore\"><a href=\"https://www.opencodez.com/it-lifestyle/7-highly-effective-ways-professionals-can-prepare-recession.htm\" rel=\"bookmark\" title=\"Recession 2020 -7 Highly Effective Ways IT Professionals Can Prepare\">Read More +</a></div>\n",
       "</div>\n",
       "</article>\n",
       "<article class=\"pexcerpt6 post excerpt\">\n",
       "<a href=\"https://www.opencodez.com/it-lifestyle/10-productivity-tips-for-working-from-home.htm\" id=\"featured-thumbnail\" title=\"10 Productivity Tips For Working From Home (WFH) – Practical To Follow\">\n",
       "<div class=\"featured-thumbnail\"><img alt=\"Productivity Tips For Working From Home\" class=\"attachment-featured size-featured wp-post-image\" height=\"100\" sizes=\"(max-width: 100px) 100vw, 100px\" src=\"https://www.opencodez.com/wp-content/uploads/2020/03/Untitled-drawing-4.png\" srcset=\"https://www.opencodez.com/wp-content/uploads/2020/03/Untitled-drawing-4.png 200w, https://www.opencodez.com/wp-content/uploads/2020/03/Untitled-drawing-4-65x65.png 65w\" title=\"\" width=\"100\"/></div> </a>\n",
       "<header>\n",
       "<h2 class=\"title\">\n",
       "<a href=\"https://www.opencodez.com/it-lifestyle/10-productivity-tips-for-working-from-home.htm\" rel=\"bookmark\" title=\"10 Productivity Tips For Working From Home (WFH) – Practical To Follow\">10 Productivity Tips For Working From Home (WFH) – Practical To Follow</a>\n",
       "</h2>\n",
       "</header>\n",
       "<div class=\"post-content image-caption-format-1\">\n",
       "<p>\n",
       "It’s been more than 5 years, I am working from home (WFH) now. After the birth of my daughter, I was blessed to get this opportunity to WFH and at </p>\n",
       "<div class=\"post-info\"><span class=\"theauthor\"><i class=\"icon-user\"></i> <a href=\"https://www.opencodez.com/author/shilpas\" rel=\"author\" title=\"Posts by Shilpa\">Shilpa</a></span> <span class=\"thetime\"><i class=\"icon-calendar\"></i> Mar 30, 2020</span></div>\n",
       "<div class=\"readMore\"><a href=\"https://www.opencodez.com/it-lifestyle/10-productivity-tips-for-working-from-home.htm\" rel=\"bookmark\" title=\"10 Productivity Tips For Working From Home (WFH) – Practical To Follow\">Read More +</a></div>\n",
       "</div>\n",
       "</article>\n",
       "<article class=\"pexcerpt7 post excerpt last\">\n",
       "<a href=\"https://www.opencodez.com/software-testing/complete-step-step-guide-gherkin-beginners.htm\" id=\"featured-thumbnail\" title=\"Complete Step by Step Guide of Gherkin for Beginners\">\n",
       "<div class=\"featured-thumbnail\"><img alt=\"Gherkin\" class=\"attachment-featured size-featured wp-post-image\" height=\"100\" sizes=\"(max-width: 100px) 100vw, 100px\" src=\"https://www.opencodez.com/wp-content/uploads/2020/03/Untitled-drawing-3.png\" srcset=\"https://www.opencodez.com/wp-content/uploads/2020/03/Untitled-drawing-3.png 200w, https://www.opencodez.com/wp-content/uploads/2020/03/Untitled-drawing-3-65x65.png 65w\" title=\"\" width=\"100\"/></div> </a>\n",
       "<header>\n",
       "<h2 class=\"title\">\n",
       "<a href=\"https://www.opencodez.com/software-testing/complete-step-step-guide-gherkin-beginners.htm\" rel=\"bookmark\" title=\"Complete Step by Step Guide of Gherkin for Beginners\">Complete Step by Step Guide of Gherkin for Beginners</a>\n",
       "</h2>\n",
       "</header>\n",
       "<div class=\"post-content image-caption-format-1\">\n",
       "<p>\n",
       "Gherkin is a plain English text language, used by BDD (Behavior Driven Development) tool ‘Cucumber‘ to define and execute the test scripts. 1. What is BDD? BDD (Behavior Driven Development) </p>\n",
       "<div class=\"post-info\"><span class=\"theauthor\"><i class=\"icon-user\"></i> <a href=\"https://www.opencodez.com/author/ppritam\" rel=\"author\" title=\"Posts by Pritam\">Pritam</a></span> <span class=\"thetime\"><i class=\"icon-calendar\"></i> Mar 22, 2020</span></div>\n",
       "<div class=\"readMore\"><a href=\"https://www.opencodez.com/software-testing/complete-step-step-guide-gherkin-beginners.htm\" rel=\"bookmark\" title=\"Complete Step by Step Guide of Gherkin for Beginners\">Read More +</a></div>\n",
       "</div>\n",
       "</article>\n",
       "<article class=\"pexcerpt8 post excerpt\">\n",
       "<a href=\"https://www.opencodez.com/how-to-guide/the-8-most-commonly-asked-hr-interview-questions.htm\" id=\"featured-thumbnail\" title=\"Top 8 Most Commonly asked HR Interview Questions With Answers\">\n",
       "<div class=\"featured-thumbnail\"><img alt=\"HR Interview Questions\" class=\"attachment-featured size-featured wp-post-image\" height=\"100\" sizes=\"(max-width: 100px) 100vw, 100px\" src=\"https://www.opencodez.com/wp-content/uploads/2020/03/HR-Interview-Questions-200x200.png\" srcset=\"https://www.opencodez.com/wp-content/uploads/2020/03/HR-Interview-Questions-200x200.png 200w, https://www.opencodez.com/wp-content/uploads/2020/03/HR-Interview-Questions-65x65.png 65w\" title=\"\" width=\"100\"/></div> </a>\n",
       "<header>\n",
       "<h2 class=\"title\">\n",
       "<a href=\"https://www.opencodez.com/how-to-guide/the-8-most-commonly-asked-hr-interview-questions.htm\" rel=\"bookmark\" title=\"Top 8 Most Commonly asked HR Interview Questions With Answers\">Top 8 Most Commonly asked HR Interview Questions With Answers</a>\n",
       "</h2>\n",
       "</header>\n",
       "<div class=\"post-content image-caption-format-1\">\n",
       "<p>\n",
       "There are some questions that are frequently asked during Human Resource interviews. As an IT professional, these HR Interview Questions may appear not so important as technical questions, but in </p>\n",
       "<div class=\"post-info\"><span class=\"theauthor\"><i class=\"icon-user\"></i> <a href=\"https://www.opencodez.com/author/shilpas\" rel=\"author\" title=\"Posts by Shilpa\">Shilpa</a></span> <span class=\"thetime\"><i class=\"icon-calendar\"></i> Mar 21, 2020</span></div>\n",
       "<div class=\"readMore\"><a href=\"https://www.opencodez.com/how-to-guide/the-8-most-commonly-asked-hr-interview-questions.htm\" rel=\"bookmark\" title=\"Top 8 Most Commonly asked HR Interview Questions With Answers\">Read More +</a></div>\n",
       "</div>\n",
       "</article>\n",
       "<article class=\"pexcerpt9 post excerpt last\">\n",
       "<a href=\"https://www.opencodez.com/software-testing/free-testing-artifacts-deliverables-template-to-download.htm\" id=\"featured-thumbnail\" title=\"7 Free Testing Artifacts / Deliverables Template To Download\">\n",
       "<div class=\"featured-thumbnail\"><img alt=\"Testing Artifacts\" class=\"attachment-featured size-featured wp-post-image\" height=\"100\" sizes=\"(max-width: 100px) 100vw, 100px\" src=\"https://www.opencodez.com/wp-content/uploads/2020/03/Testing-Artifacts-200x200.png\" srcset=\"https://www.opencodez.com/wp-content/uploads/2020/03/Testing-Artifacts-200x200.png 200w, https://www.opencodez.com/wp-content/uploads/2020/03/Testing-Artifacts-65x65.png 65w, https://www.opencodez.com/wp-content/uploads/2020/03/Testing-Artifacts.png 250w\" title=\"\" width=\"100\"/></div> </a>\n",
       "<header>\n",
       "<h2 class=\"title\">\n",
       "<a href=\"https://www.opencodez.com/software-testing/free-testing-artifacts-deliverables-template-to-download.htm\" rel=\"bookmark\" title=\"7 Free Testing Artifacts / Deliverables Template To Download\">7 Free Testing Artifacts / Deliverables Template To Download</a>\n",
       "</h2>\n",
       "</header>\n",
       "<div class=\"post-content image-caption-format-1\">\n",
       "<p>\n",
       "Testing Artifacts are deliverables or documents prepared during the testing process. These documents are shared at different stages of Testing with different stakeholders like clients, Test Managers, Team members, and </p>\n",
       "<div class=\"post-info\"><span class=\"theauthor\"><i class=\"icon-user\"></i> <a href=\"https://www.opencodez.com/author/shilpas\" rel=\"author\" title=\"Posts by Shilpa\">Shilpa</a></span> <span class=\"thetime\"><i class=\"icon-calendar\"></i> Mar 19, 2020</span></div>\n",
       "<div class=\"readMore\"><a href=\"https://www.opencodez.com/software-testing/free-testing-artifacts-deliverables-template-to-download.htm\" rel=\"bookmark\" title=\"7 Free Testing Artifacts / Deliverables Template To Download\">Read More +</a></div>\n",
       "</div>\n",
       "</article>\n",
       "<article class=\"pexcerpt10 post excerpt\">\n",
       "<a href=\"https://www.opencodez.com/software-testing/test-cases-with-examples-free-test-case-template-to-download.htm\" id=\"featured-thumbnail\" title=\"What is Test Case (TC), Examples with Free Template To Download\">\n",
       "<div class=\"featured-thumbnail\"><img alt=\"Test Case\" class=\"attachment-featured size-featured wp-post-image\" height=\"100\" sizes=\"(max-width: 100px) 100vw, 100px\" src=\"https://www.opencodez.com/wp-content/uploads/2020/03/Test-Case_F.png\" srcset=\"https://www.opencodez.com/wp-content/uploads/2020/03/Test-Case_F.png 200w, https://www.opencodez.com/wp-content/uploads/2020/03/Test-Case_F-65x65.png 65w\" title=\"\" width=\"100\"/></div> </a>\n",
       "<header>\n",
       "<h2 class=\"title\">\n",
       "<a href=\"https://www.opencodez.com/software-testing/test-cases-with-examples-free-test-case-template-to-download.htm\" rel=\"bookmark\" title=\"What is Test Case (TC), Examples with Free Template To Download\">What is Test Case (TC), Examples with Free Template To Download</a>\n",
       "</h2>\n",
       "</header>\n",
       "<div class=\"post-content image-caption-format-1\">\n",
       "<p>\n",
       "Test Case (TC) is the most important document prepared in testing activities. It is the base for testing an application. So make sure it is reviewed by all respective stakeholders </p>\n",
       "<div class=\"post-info\"><span class=\"theauthor\"><i class=\"icon-user\"></i> <a href=\"https://www.opencodez.com/author/shilpas\" rel=\"author\" title=\"Posts by Shilpa\">Shilpa</a></span> <span class=\"thetime\"><i class=\"icon-calendar\"></i> Mar 16, 2020</span></div>\n",
       "<div class=\"readMore\"><a href=\"https://www.opencodez.com/software-testing/test-cases-with-examples-free-test-case-template-to-download.htm\" rel=\"bookmark\" title=\"What is Test Case (TC), Examples with Free Template To Download\">Read More +</a></div>\n",
       "</div>\n",
       "</article>\n",
       "<article class=\"pexcerpt11 post excerpt last\">\n",
       "<a href=\"https://www.opencodez.com/software-testing/test-data.htm\" id=\"featured-thumbnail\" title=\"What is Test Data? Examples with Free Template to Download\">\n",
       "<div class=\"featured-thumbnail\"><img alt=\"Test Data\" class=\"attachment-featured size-featured wp-post-image\" height=\"100\" sizes=\"(max-width: 100px) 100vw, 100px\" src=\"https://www.opencodez.com/wp-content/uploads/2020/03/Test-Data-2-200x200.png\" srcset=\"https://www.opencodez.com/wp-content/uploads/2020/03/Test-Data-2-200x200.png 200w, https://www.opencodez.com/wp-content/uploads/2020/03/Test-Data-2-300x300.png 300w, https://www.opencodez.com/wp-content/uploads/2020/03/Test-Data-2-768x768.png 768w, https://www.opencodez.com/wp-content/uploads/2020/03/Test-Data-2-1024x1024.png 1024w, https://www.opencodez.com/wp-content/uploads/2020/03/Test-Data-2-65x65.png 65w, https://www.opencodez.com/wp-content/uploads/2020/03/Test-Data-2.png 2048w\" title=\"\" width=\"100\"/></div> </a>\n",
       "<header>\n",
       "<h2 class=\"title\">\n",
       "<a href=\"https://www.opencodez.com/software-testing/test-data.htm\" rel=\"bookmark\" title=\"What is Test Data? Examples with Free Template to Download\">What is Test Data? Examples with Free Template to Download</a>\n",
       "</h2>\n",
       "</header>\n",
       "<div class=\"post-content image-caption-format-1\">\n",
       "<p>\n",
       "Test data plays an important role in executing test cases. Designing appropriate data is one of the main tasks of application testing. What is Test Data? Test data is a </p>\n",
       "<div class=\"post-info\"><span class=\"theauthor\"><i class=\"icon-user\"></i> <a href=\"https://www.opencodez.com/author/shilpas\" rel=\"author\" title=\"Posts by Shilpa\">Shilpa</a></span> <span class=\"thetime\"><i class=\"icon-calendar\"></i> Mar 12, 2020</span></div>\n",
       "<div class=\"readMore\"><a href=\"https://www.opencodez.com/software-testing/test-data.htm\" rel=\"bookmark\" title=\"What is Test Data? Examples with Free Template to Download\">Read More +</a></div>\n",
       "</div>\n",
       "</article>\n",
       "</div>"
      ]
     },
     "execution_count": 17,
     "metadata": {},
     "output_type": "execute_result"
    }
   ],
   "source": [
    "last_post"
   ]
  },
  {
   "cell_type": "markdown",
   "id": "aef8f5af",
   "metadata": {},
   "source": [
    "# display link pages that you can scrap ,meanwhile it exit in bs not in section"
   ]
  },
  {
   "cell_type": "code",
   "execution_count": 18,
   "id": "22479218",
   "metadata": {},
   "outputs": [
    {
     "data": {
      "text/plain": [
       "[<a class=\"inactive\" href=\"https://www.opencodez.com/page/2\">2</a>,\n",
       " <a class=\"inactive\" href=\"https://www.opencodez.com/page/3\">3</a>,\n",
       " <a class=\"inactive\" href=\"https://www.opencodez.com/page/4\">4</a>,\n",
       " <a class=\"inactive\" href=\"https://www.opencodez.com/page/2\">Next ›</a>,\n",
       " <a class=\"inactive\" href=\"https://www.opencodez.com/page/19\">Last »</a>]"
      ]
     },
     "execution_count": 18,
     "metadata": {},
     "output_type": "execute_result"
    }
   ],
   "source": [
    "bs.findAll('a',attrs={'class':'inactive'})"
   ]
  },
  {
   "cell_type": "code",
   "execution_count": 19,
   "id": "27d34c43",
   "metadata": {},
   "outputs": [
    {
     "name": "stdout",
     "output_type": "stream",
     "text": [
      "https://www.opencodez.com/page/2\n",
      "https://www.opencodez.com/page/3\n",
      "https://www.opencodez.com/page/4\n",
      "https://www.opencodez.com/page/2\n",
      "https://www.opencodez.com/page/19\n"
     ]
    }
   ],
   "source": [
    "for a in bs.findAll('a',attrs={'class':'inactive'}):#find link\n",
    "    print(a['href'])"
   ]
  },
  {
   "cell_type": "code",
   "execution_count": 20,
   "id": "0d69fd0b",
   "metadata": {},
   "outputs": [
    {
     "data": {
      "text/plain": [
       "'https://www.opencodez.com/page/19'"
      ]
     },
     "execution_count": 20,
     "metadata": {},
     "output_type": "execute_result"
    }
   ],
   "source": [
    "bs.findAll('a',attrs={'class':'inactive'})[-1]['href']# show link last page, -1 refer to last elman of  list"
   ]
  },
  {
   "cell_type": "code",
   "execution_count": 25,
   "id": "cc5a4f5f",
   "metadata": {},
   "outputs": [
    {
     "data": {
      "text/plain": [
       "['https:', '', 'www.opencodez.com', 'page', '19']"
      ]
     },
     "execution_count": 25,
     "metadata": {},
     "output_type": "execute_result"
    }
   ],
   "source": [
    "bs.findAll('a',attrs={'class':'inactive'})[-1]['href'].split('/')# show in a list base of '/'"
   ]
  },
  {
   "cell_type": "code",
   "execution_count": 31,
   "id": "3d4ccf72",
   "metadata": {},
   "outputs": [
    {
     "data": {
      "text/plain": [
       "19"
      ]
     },
     "execution_count": 31,
     "metadata": {},
     "output_type": "execute_result"
    }
   ],
   "source": [
    "last_page_number=bs.findAll('a',attrs={'class':'inactive'})[-1]['href'].split('/')[-1] #show last item of list\n",
    "last_page_number=int(last_page_number)\n",
    "last_page_number"
   ]
  },
  {
   "cell_type": "markdown",
   "id": "04ea41ea",
   "metadata": {},
   "source": [
    "\n",
    "# scrap all pages in this site"
   ]
  },
  {
   "cell_type": "code",
   "execution_count": 39,
   "id": "e71c6d18",
   "metadata": {},
   "outputs": [
    {
     "name": "stdout",
     "output_type": "stream",
     "text": [
      "Scraping page number 1 is finished.\n",
      "Scraping page number 2 is finished.\n",
      "Scraping page number 3 is finished.\n",
      "Scraping page number 4 is finished.\n",
      "Scraping page number 5 is finished.\n",
      "Scraping page number 6 is finished.\n",
      "Scraping page number 7 is finished.\n",
      "Scraping page number 8 is finished.\n",
      "Scraping page number 9 is finished.\n",
      "Scraping page number 10 is finished.\n",
      "Scraping page number 11 is finished.\n",
      "Scraping page number 12 is finished.\n",
      "Scraping page number 13 is finished.\n",
      "Scraping page number 14 is finished.\n",
      "Scraping page number 15 is finished.\n",
      "Scraping page number 16 is finished.\n",
      "Scraping page number 17 is finished.\n",
      "Scraping page number 18 is finished.\n",
      "Scraping page number 19 is finished.\n"
     ]
    }
   ],
   "source": [
    "title_list=[]\n",
    "description_list=[]\n",
    "writer_list=[]\n",
    "year_list=[]\n",
    "month_day_list=[]\n",
    "link_list=[]\n",
    "post_image_link_list=[]\n",
    "for p in range(1,last_page_number +1):#range in for equall the number of pages(you can find with last_page_number)\n",
    "    url='https://www.opencodez.com/page/{}'. format(p)\n",
    "    response=requests.get(url)\n",
    "    bs=BeautifulSoup(response.content,'html.parser')\n",
    "    last_post=bs.find('div',attrs={'class':'latest-section'})#section that do scrap\n",
    "    \n",
    "    title_all = last_post.findAll('h2', attrs = {'class':'title'})\n",
    "    description_all = last_post.findAll('div', attrs = {'class':'post-content image-caption-format-1'})\n",
    "    author_all = last_post.find_all('span', attrs = {'class':'theauthor'})\n",
    "    year_all = last_post.find_all('span', attrs = {'class':'thetime'})\n",
    "    month_day_all = last_post.find_all('span', attrs = {'class':'thetime'})\n",
    "    post_link_all = last_post.find_all('h2', attrs = {'class':'title'})\n",
    "    post_image_link_all = last_post.find_all('div', attrs = {'class':'featured-thumbnail'})\n",
    "    \n",
    "    each_list_length = [#count of item\n",
    "    len(title_all),\n",
    "    len(description_all),\n",
    "    len(author_all),\n",
    "    len(year_all),\n",
    "    len(month_day_all),\n",
    "    len(post_link_all),\n",
    "    len(post_image_link_all)\n",
    "    ]\n",
    "        \n",
    "    if len(set(each_list_length)) == 1:\n",
    "        for i in range(0, each_list_length[0]):\n",
    "            title_list.append(title_all[i].find('a').get_text())\n",
    "            description_list.append(description_all[i].find('p').get_text().strip())\n",
    "            writer_list.append(author_all[i].find('a').get_text())\n",
    "            year_list.append(year_all[i].get_text().strip().split(',')[1].strip())\n",
    "            month_day_list.append(month_day_all[i].get_text().strip().split(',')[0])\n",
    "            link_list.append(post_link_all[i].find('a').get('href'))\n",
    "            post_image_link_list.append(post_image_link_all[i].find('img')['src'])\n",
    "    else:\n",
    "        print('Sorry! We have some missing values.')\n",
    "    \n",
    "    print('Scraping page number {} is finished.'.format(p))#show number of scrap\n",
    "    "
   ]
  },
  {
   "cell_type": "markdown",
   "id": "c3384c42",
   "metadata": {},
   "source": [
    "# create dataframe"
   ]
  },
  {
   "cell_type": "code",
   "execution_count": 41,
   "id": "f524be79",
   "metadata": {},
   "outputs": [],
   "source": [
    "df = pd.DataFrame(list(zip(title_list,description_list,writer_list,\n",
    "year_list,month_day_list,link_list,post_image_link_list)),\n",
    "                  columns = ['Title', 'Description', 'Author', 'Year', 'MonthDay', 'Link', 'ImageLink'])\n"
   ]
  },
  {
   "cell_type": "code",
   "execution_count": 42,
   "id": "12bbacce",
   "metadata": {},
   "outputs": [
    {
     "data": {
      "text/html": [
       "<div>\n",
       "<style scoped>\n",
       "    .dataframe tbody tr th:only-of-type {\n",
       "        vertical-align: middle;\n",
       "    }\n",
       "\n",
       "    .dataframe tbody tr th {\n",
       "        vertical-align: top;\n",
       "    }\n",
       "\n",
       "    .dataframe thead th {\n",
       "        text-align: right;\n",
       "    }\n",
       "</style>\n",
       "<table border=\"1\" class=\"dataframe\">\n",
       "  <thead>\n",
       "    <tr style=\"text-align: right;\">\n",
       "      <th></th>\n",
       "      <th>Title</th>\n",
       "      <th>Description</th>\n",
       "      <th>Author</th>\n",
       "      <th>Year</th>\n",
       "      <th>MonthDay</th>\n",
       "      <th>Link</th>\n",
       "      <th>ImageLink</th>\n",
       "    </tr>\n",
       "  </thead>\n",
       "  <tbody>\n",
       "    <tr>\n",
       "      <th>0</th>\n",
       "      <td>Python Tutorial :#2 Python Vs Java</td>\n",
       "      <td>As we know Python and Java, Both the languages...</td>\n",
       "      <td>Supriya</td>\n",
       "      <td>2022</td>\n",
       "      <td>Mar 10</td>\n",
       "      <td>https://www.opencodez.com/python/python-tutori...</td>\n",
       "      <td>https://www.opencodez.com/wp-content/uploads/2...</td>\n",
       "    </tr>\n",
       "    <tr>\n",
       "      <th>1</th>\n",
       "      <td>Python Tutorial : #1 Introduction to Python</td>\n",
       "      <td>Python is a most popular programming language ...</td>\n",
       "      <td>Supriya</td>\n",
       "      <td>2022</td>\n",
       "      <td>Feb 20</td>\n",
       "      <td>https://www.opencodez.com/python/python-tutori...</td>\n",
       "      <td>https://www.opencodez.com/wp-content/uploads/2...</td>\n",
       "    </tr>\n",
       "    <tr>\n",
       "      <th>2</th>\n",
       "      <td>Chain of Responsibility – Behavioral Design Pa...</td>\n",
       "      <td>The Chain of Responsibility Pattern comes unde...</td>\n",
       "      <td>Supriya</td>\n",
       "      <td>2020</td>\n",
       "      <td>Aug 1</td>\n",
       "      <td>https://www.opencodez.com/java/chain-of-respon...</td>\n",
       "      <td>https://www.opencodez.com/wp-content/uploads/2...</td>\n",
       "    </tr>\n",
       "    <tr>\n",
       "      <th>3</th>\n",
       "      <td>Flyweight Pattern – Structural Design Pattern</td>\n",
       "      <td>Flyweight pattern comes under Structural Desig...</td>\n",
       "      <td>Supriya</td>\n",
       "      <td>2020</td>\n",
       "      <td>May 20</td>\n",
       "      <td>https://www.opencodez.com/java/flyweight-patte...</td>\n",
       "      <td>https://www.opencodez.com/wp-content/uploads/2...</td>\n",
       "    </tr>\n",
       "    <tr>\n",
       "      <th>4</th>\n",
       "      <td>What Is Full Stack QA or Tester? 4 Steps Guide...</td>\n",
       "      <td>We have always heard the term full-stack devel...</td>\n",
       "      <td>Shilpa</td>\n",
       "      <td>2020</td>\n",
       "      <td>May 18</td>\n",
       "      <td>https://www.opencodez.com/software-testing/bec...</td>\n",
       "      <td>https://www.opencodez.com/wp-content/uploads/2...</td>\n",
       "    </tr>\n",
       "    <tr>\n",
       "      <th>...</th>\n",
       "      <td>...</td>\n",
       "      <td>...</td>\n",
       "      <td>...</td>\n",
       "      <td>...</td>\n",
       "      <td>...</td>\n",
       "      <td>...</td>\n",
       "      <td>...</td>\n",
       "    </tr>\n",
       "    <tr>\n",
       "      <th>215</th>\n",
       "      <td>Note on Software Development</td>\n",
       "      <td>Understand the requirements: It’s often the ca...</td>\n",
       "      <td>Pavan</td>\n",
       "      <td>2009</td>\n",
       "      <td>Feb 13</td>\n",
       "      <td>https://www.opencodez.com/web-development/note...</td>\n",
       "      <td>https://www.opencodez.com/wp-content/uploads/2...</td>\n",
       "    </tr>\n",
       "    <tr>\n",
       "      <th>216</th>\n",
       "      <td>Points you must check while installing XAMPP o...</td>\n",
       "      <td>Xampp is the best option to run websites on wi...</td>\n",
       "      <td>Pavan</td>\n",
       "      <td>2009</td>\n",
       "      <td>Feb 12</td>\n",
       "      <td>https://www.opencodez.com/web-server/installin...</td>\n",
       "      <td>https://www.opencodez.com/wp-content/uploads/2...</td>\n",
       "    </tr>\n",
       "    <tr>\n",
       "      <th>217</th>\n",
       "      <td>Sort your tables with out an extra server trip</td>\n",
       "      <td>Name I need back my money Jack Bauer $10.00 Ch...</td>\n",
       "      <td>Pavan</td>\n",
       "      <td>2009</td>\n",
       "      <td>Feb 1</td>\n",
       "      <td>https://www.opencodez.com/java-script/sort-you...</td>\n",
       "      <td>https://www.opencodez.com/wp-content/uploads/2...</td>\n",
       "    </tr>\n",
       "    <tr>\n",
       "      <th>218</th>\n",
       "      <td>How to learn a Programming Language easily</td>\n",
       "      <td>Learning a programming language is as good as ...</td>\n",
       "      <td>Pavan</td>\n",
       "      <td>2008</td>\n",
       "      <td>Dec 21</td>\n",
       "      <td>https://www.opencodez.com/how-to-guide/learnin...</td>\n",
       "      <td>https://www.opencodez.com/wp-content/uploads/2...</td>\n",
       "    </tr>\n",
       "    <tr>\n",
       "      <th>219</th>\n",
       "      <td>How to become an Efficient and Good Programmer</td>\n",
       "      <td>I have been in the Software Industry for more ...</td>\n",
       "      <td>Pavan</td>\n",
       "      <td>2008</td>\n",
       "      <td>Dec 21</td>\n",
       "      <td>https://www.opencodez.com/how-to-guide/how-to-...</td>\n",
       "      <td>https://www.opencodez.com/wp-content/uploads/2...</td>\n",
       "    </tr>\n",
       "  </tbody>\n",
       "</table>\n",
       "<p>220 rows × 7 columns</p>\n",
       "</div>"
      ],
      "text/plain": [
       "                                                 Title  \\\n",
       "0                   Python Tutorial :#2 Python Vs Java   \n",
       "1          Python Tutorial : #1 Introduction to Python   \n",
       "2    Chain of Responsibility – Behavioral Design Pa...   \n",
       "3        Flyweight Pattern – Structural Design Pattern   \n",
       "4    What Is Full Stack QA or Tester? 4 Steps Guide...   \n",
       "..                                                 ...   \n",
       "215                       Note on Software Development   \n",
       "216  Points you must check while installing XAMPP o...   \n",
       "217     Sort your tables with out an extra server trip   \n",
       "218         How to learn a Programming Language easily   \n",
       "219     How to become an Efficient and Good Programmer   \n",
       "\n",
       "                                           Description   Author  Year  \\\n",
       "0    As we know Python and Java, Both the languages...  Supriya  2022   \n",
       "1    Python is a most popular programming language ...  Supriya  2022   \n",
       "2    The Chain of Responsibility Pattern comes unde...  Supriya  2020   \n",
       "3    Flyweight pattern comes under Structural Desig...  Supriya  2020   \n",
       "4    We have always heard the term full-stack devel...   Shilpa  2020   \n",
       "..                                                 ...      ...   ...   \n",
       "215  Understand the requirements: It’s often the ca...    Pavan  2009   \n",
       "216  Xampp is the best option to run websites on wi...    Pavan  2009   \n",
       "217  Name I need back my money Jack Bauer $10.00 Ch...    Pavan  2009   \n",
       "218  Learning a programming language is as good as ...    Pavan  2008   \n",
       "219  I have been in the Software Industry for more ...    Pavan  2008   \n",
       "\n",
       "    MonthDay                                               Link  \\\n",
       "0     Mar 10  https://www.opencodez.com/python/python-tutori...   \n",
       "1     Feb 20  https://www.opencodez.com/python/python-tutori...   \n",
       "2      Aug 1  https://www.opencodez.com/java/chain-of-respon...   \n",
       "3     May 20  https://www.opencodez.com/java/flyweight-patte...   \n",
       "4     May 18  https://www.opencodez.com/software-testing/bec...   \n",
       "..       ...                                                ...   \n",
       "215   Feb 13  https://www.opencodez.com/web-development/note...   \n",
       "216   Feb 12  https://www.opencodez.com/web-server/installin...   \n",
       "217    Feb 1  https://www.opencodez.com/java-script/sort-you...   \n",
       "218   Dec 21  https://www.opencodez.com/how-to-guide/learnin...   \n",
       "219   Dec 21  https://www.opencodez.com/how-to-guide/how-to-...   \n",
       "\n",
       "                                             ImageLink  \n",
       "0    https://www.opencodez.com/wp-content/uploads/2...  \n",
       "1    https://www.opencodez.com/wp-content/uploads/2...  \n",
       "2    https://www.opencodez.com/wp-content/uploads/2...  \n",
       "3    https://www.opencodez.com/wp-content/uploads/2...  \n",
       "4    https://www.opencodez.com/wp-content/uploads/2...  \n",
       "..                                                 ...  \n",
       "215  https://www.opencodez.com/wp-content/uploads/2...  \n",
       "216  https://www.opencodez.com/wp-content/uploads/2...  \n",
       "217  https://www.opencodez.com/wp-content/uploads/2...  \n",
       "218  https://www.opencodez.com/wp-content/uploads/2...  \n",
       "219  https://www.opencodez.com/wp-content/uploads/2...  \n",
       "\n",
       "[220 rows x 7 columns]"
      ]
     },
     "execution_count": 42,
     "metadata": {},
     "output_type": "execute_result"
    }
   ],
   "source": [
    "df"
   ]
  },
  {
   "cell_type": "code",
   "execution_count": 44,
   "id": "a31cf17b",
   "metadata": {},
   "outputs": [],
   "source": [
    "df.to_csv(\"opencodez_data.csv\",index=False)"
   ]
  },
  {
   "cell_type": "code",
   "execution_count": 46,
   "id": "13d02243",
   "metadata": {},
   "outputs": [
    {
     "data": {
      "text/html": [
       "<div>\n",
       "<style scoped>\n",
       "    .dataframe tbody tr th:only-of-type {\n",
       "        vertical-align: middle;\n",
       "    }\n",
       "\n",
       "    .dataframe tbody tr th {\n",
       "        vertical-align: top;\n",
       "    }\n",
       "\n",
       "    .dataframe thead th {\n",
       "        text-align: right;\n",
       "    }\n",
       "</style>\n",
       "<table border=\"1\" class=\"dataframe\">\n",
       "  <thead>\n",
       "    <tr style=\"text-align: right;\">\n",
       "      <th></th>\n",
       "      <th>Title</th>\n",
       "      <th>Description</th>\n",
       "      <th>Author</th>\n",
       "      <th>Year</th>\n",
       "      <th>MonthDay</th>\n",
       "      <th>Link</th>\n",
       "      <th>ImageLink</th>\n",
       "    </tr>\n",
       "  </thead>\n",
       "  <tbody>\n",
       "    <tr>\n",
       "      <th>count</th>\n",
       "      <td>220</td>\n",
       "      <td>220</td>\n",
       "      <td>220</td>\n",
       "      <td>220</td>\n",
       "      <td>220</td>\n",
       "      <td>220</td>\n",
       "      <td>220</td>\n",
       "    </tr>\n",
       "    <tr>\n",
       "      <th>unique</th>\n",
       "      <td>220</td>\n",
       "      <td>220</td>\n",
       "      <td>10</td>\n",
       "      <td>11</td>\n",
       "      <td>168</td>\n",
       "      <td>220</td>\n",
       "      <td>209</td>\n",
       "    </tr>\n",
       "    <tr>\n",
       "      <th>top</th>\n",
       "      <td>Python Tutorial :#2 Python Vs Java</td>\n",
       "      <td>As we know Python and Java, Both the languages...</td>\n",
       "      <td>Pavan</td>\n",
       "      <td>2019</td>\n",
       "      <td>May 24</td>\n",
       "      <td>https://www.opencodez.com/python/python-tutori...</td>\n",
       "      <td>https://www.opencodez.com/wp-content/uploads/2...</td>\n",
       "    </tr>\n",
       "    <tr>\n",
       "      <th>freq</th>\n",
       "      <td>1</td>\n",
       "      <td>1</td>\n",
       "      <td>111</td>\n",
       "      <td>59</td>\n",
       "      <td>5</td>\n",
       "      <td>1</td>\n",
       "      <td>4</td>\n",
       "    </tr>\n",
       "  </tbody>\n",
       "</table>\n",
       "</div>"
      ],
      "text/plain": [
       "                                     Title  \\\n",
       "count                                  220   \n",
       "unique                                 220   \n",
       "top     Python Tutorial :#2 Python Vs Java   \n",
       "freq                                     1   \n",
       "\n",
       "                                              Description Author  Year  \\\n",
       "count                                                 220    220   220   \n",
       "unique                                                220     10    11   \n",
       "top     As we know Python and Java, Both the languages...  Pavan  2019   \n",
       "freq                                                    1    111    59   \n",
       "\n",
       "       MonthDay                                               Link  \\\n",
       "count       220                                                220   \n",
       "unique      168                                                220   \n",
       "top      May 24  https://www.opencodez.com/python/python-tutori...   \n",
       "freq          5                                                  1   \n",
       "\n",
       "                                                ImageLink  \n",
       "count                                                 220  \n",
       "unique                                                209  \n",
       "top     https://www.opencodez.com/wp-content/uploads/2...  \n",
       "freq                                                    4  "
      ]
     },
     "execution_count": 46,
     "metadata": {},
     "output_type": "execute_result"
    }
   ],
   "source": [
    "df.describe()"
   ]
  },
  {
   "cell_type": "code",
   "execution_count": 47,
   "id": "cbb87ef3",
   "metadata": {},
   "outputs": [
    {
     "name": "stdout",
     "output_type": "stream",
     "text": [
      "<class 'pandas.core.frame.DataFrame'>\n",
      "RangeIndex: 220 entries, 0 to 219\n",
      "Data columns (total 7 columns):\n",
      " #   Column       Non-Null Count  Dtype \n",
      "---  ------       --------------  ----- \n",
      " 0   Title        220 non-null    object\n",
      " 1   Description  220 non-null    object\n",
      " 2   Author       220 non-null    object\n",
      " 3   Year         220 non-null    object\n",
      " 4   MonthDay     220 non-null    object\n",
      " 5   Link         220 non-null    object\n",
      " 6   ImageLink    220 non-null    object\n",
      "dtypes: object(7)\n",
      "memory usage: 12.2+ KB\n"
     ]
    }
   ],
   "source": [
    "df.info()"
   ]
  },
  {
   "cell_type": "code",
   "execution_count": null,
   "id": "ced270dd",
   "metadata": {},
   "outputs": [],
   "source": []
  }
 ],
 "metadata": {
  "kernelspec": {
   "display_name": "Python 3 (ipykernel)",
   "language": "python",
   "name": "python3"
  },
  "language_info": {
   "codemirror_mode": {
    "name": "ipython",
    "version": 3
   },
   "file_extension": ".py",
   "mimetype": "text/x-python",
   "name": "python",
   "nbconvert_exporter": "python",
   "pygments_lexer": "ipython3",
   "version": "3.11.3"
  }
 },
 "nbformat": 4,
 "nbformat_minor": 5
}
