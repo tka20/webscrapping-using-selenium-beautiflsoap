{
 "cells": [
  {
   "cell_type": "markdown",
   "id": "25383824",
   "metadata": {},
   "source": [
    "# import library"
   ]
  },
  {
   "cell_type": "code",
   "execution_count": 4,
   "id": "d491d43f",
   "metadata": {},
   "outputs": [],
   "source": [
    "import requests\n",
    "from bs4 import BeautifulSoup\n",
    "import pandas as pd\n",
    "import locale#transform text ,if is farsi or other language"
   ]
  },
  {
   "cell_type": "code",
   "execution_count": 5,
   "id": "8204f1a9",
   "metadata": {},
   "outputs": [
    {
     "data": {
      "text/plain": [
       "'en_US.UTF-8'"
      ]
     },
     "execution_count": 5,
     "metadata": {},
     "output_type": "execute_result"
    }
   ],
   "source": [
    "locale.setlocale(locale.LC_ALL, 'en_US.UTF-8')\n",
    "#transform text ,if is farsi or other language"
   ]
  },
  {
   "cell_type": "markdown",
   "id": "7e77c417",
   "metadata": {},
   "source": [
    "# get url"
   ]
  },
  {
   "cell_type": "code",
   "execution_count": 6,
   "id": "cff092d6",
   "metadata": {},
   "outputs": [],
   "source": [
    "url='https://toplearn.com/'"
   ]
  },
  {
   "cell_type": "code",
   "execution_count": 7,
   "id": "34d5bd9d",
   "metadata": {},
   "outputs": [],
   "source": [
    "response=requests.get(url)"
   ]
  },
  {
   "cell_type": "code",
   "execution_count": 8,
   "id": "0fb18b10",
   "metadata": {},
   "outputs": [
    {
     "data": {
      "text/plain": [
       "200"
      ]
     },
     "execution_count": 8,
     "metadata": {},
     "output_type": "execute_result"
    }
   ],
   "source": [
    "response.status_code\n",
    "#rest correct answer"
   ]
  },
  {
   "cell_type": "markdown",
   "id": "ac6c572f",
   "metadata": {},
   "source": [
    "# define object of beautifulsoap"
   ]
  },
  {
   "cell_type": "code",
   "execution_count": 9,
   "id": "d60921ec",
   "metadata": {},
   "outputs": [],
   "source": [
    "bs=BeautifulSoup(response.content,'html.parser')"
   ]
  },
  {
   "cell_type": "markdown",
   "id": "1a2ca830",
   "metadata": {},
   "source": [
    "# extract data from url"
   ]
  },
  {
   "cell_type": "code",
   "execution_count": 10,
   "id": "b9bb72e4",
   "metadata": {},
   "outputs": [],
   "source": [
    "last_post=bs.find('section',attrs={'class':'last-courses-layer courses-view'})"
   ]
  },
  {
   "cell_type": "code",
   "execution_count": 11,
   "id": "6301a4f7",
   "metadata": {},
   "outputs": [],
   "source": [
    "title1=last_post.find('div',attrs={'class':'col-lg-3 col-md-4 col-sm-6 col-xs-6 course-col'}).find('h2').get_text().strip()"
   ]
  },
  {
   "cell_type": "code",
   "execution_count": 12,
   "id": "1a7563c9",
   "metadata": {},
   "outputs": [
    {
     "data": {
      "text/plain": [
       "'آموزش جامع ابزارهای هوش مصنوعی'"
      ]
     },
     "execution_count": 12,
     "metadata": {},
     "output_type": "execute_result"
    }
   ],
   "source": [
    "title1"
   ]
  },
  {
   "cell_type": "markdown",
   "id": "930cb157",
   "metadata": {},
   "source": [
    "# the first way for find title is better than below way"
   ]
  },
  {
   "cell_type": "code",
   "execution_count": 13,
   "id": "b3a10dfd",
   "metadata": {},
   "outputs": [],
   "source": [
    "title=bs.find('div',attrs={'class':'col-lg-3 col-md-4 col-sm-6 col-xs-6 course-col'}).find('h2').get_text().strip()"
   ]
  },
  {
   "cell_type": "code",
   "execution_count": 14,
   "id": "e5569415",
   "metadata": {},
   "outputs": [
    {
     "data": {
      "text/plain": [
       "'آموزش جامع ابزارهای هوش مصنوعی'"
      ]
     },
     "execution_count": 14,
     "metadata": {},
     "output_type": "execute_result"
    }
   ],
   "source": [
    "title"
   ]
  },
  {
   "cell_type": "markdown",
   "id": "a0a2cb4c",
   "metadata": {},
   "source": [
    "# extract duration of every topic"
   ]
  },
  {
   "cell_type": "code",
   "execution_count": 15,
   "id": "2310748f",
   "metadata": {},
   "outputs": [],
   "source": [
    "time=bs.find('span',attrs={'class':'time'}).get_text().strip()"
   ]
  },
  {
   "cell_type": "code",
   "execution_count": 16,
   "id": "9f79a265",
   "metadata": {},
   "outputs": [],
   "source": [
    "time=last_post.find('div',attrs={'class':'detail'}).find('span',attrs={'class':'time'}).get_text().strip()"
   ]
  },
  {
   "cell_type": "code",
   "execution_count": 17,
   "id": "c7e901b1",
   "metadata": {},
   "outputs": [
    {
     "data": {
      "text/plain": [
       "'5:41:00'"
      ]
     },
     "execution_count": 17,
     "metadata": {},
     "output_type": "execute_result"
    }
   ],
   "source": [
    "time\n"
   ]
  },
  {
   "cell_type": "markdown",
   "id": "6648b0e3",
   "metadata": {},
   "source": [
    "# extract price  "
   ]
  },
  {
   "cell_type": "code",
   "execution_count": 18,
   "id": "305c20d2",
   "metadata": {},
   "outputs": [],
   "source": [
    "price=last_post.find('div',attrs={'class':'detail'}).find('span',attrs={'class':'price'}).get_text().strip()"
   ]
  },
  {
   "cell_type": "code",
   "execution_count": 19,
   "id": "bfcd14f5",
   "metadata": {},
   "outputs": [],
   "source": [
    "# price=bs.find('span',attrs={'class':'price'}).get_text().strip()  #next way but extract all of page"
   ]
  },
  {
   "cell_type": "code",
   "execution_count": 20,
   "id": "2db2ba64",
   "metadata": {},
   "outputs": [
    {
     "data": {
      "text/plain": [
       "'480,000  تومان'"
      ]
     },
     "execution_count": 20,
     "metadata": {},
     "output_type": "execute_result"
    }
   ],
   "source": [
    "price"
   ]
  },
  {
   "cell_type": "markdown",
   "id": "b1a7f6d6",
   "metadata": {},
   "source": [
    "# extract writer of topic"
   ]
  },
  {
   "cell_type": "code",
   "execution_count": 21,
   "id": "16c233ac",
   "metadata": {},
   "outputs": [],
   "source": [
    "writer=bs.find('div',attrs={'class':'top'}).find('a').get_text().strip()"
   ]
  },
  {
   "cell_type": "code",
   "execution_count": 22,
   "id": "ba59b090",
   "metadata": {},
   "outputs": [
    {
     "data": {
      "text/plain": [
       "'موسوی'"
      ]
     },
     "execution_count": 22,
     "metadata": {},
     "output_type": "execute_result"
    }
   ],
   "source": [
    "writer"
   ]
  },
  {
   "cell_type": "markdown",
   "id": "a7b6672f",
   "metadata": {},
   "source": [
    "# extract link every item"
   ]
  },
  {
   "cell_type": "code",
   "execution_count": 23,
   "id": "9555dc0e",
   "metadata": {},
   "outputs": [],
   "source": [
    " link=bs.find('div',attrs={'class':'box-shadow'}).find('h2').find('a')['href']"
   ]
  },
  {
   "cell_type": "code",
   "execution_count": 24,
   "id": "b84acdf9",
   "metadata": {},
   "outputs": [
    {
     "data": {
      "text/plain": [
       "'/courses/windows/%D8%A2%D9%85%D9%88%D8%B2%D8%B4-%D8%AC%D8%A7%D9%85%D8%B9-%D8%A7%D8%A8%D8%B2%D8%A7%D8%B1%D9%87%D8%A7%DB%8C-%D9%87%D9%88%D8%B4-%D9%85%D8%B5%D9%86%D9%88%D8%B9%DB%8C'"
      ]
     },
     "execution_count": 24,
     "metadata": {},
     "output_type": "execute_result"
    }
   ],
   "source": [
    "link"
   ]
  },
  {
   "cell_type": "markdown",
   "id": "dab72cc1",
   "metadata": {},
   "source": [
    "# extract image link"
   ]
  },
  {
   "cell_type": "code",
   "execution_count": 25,
   "id": "a60c801b",
   "metadata": {},
   "outputs": [],
   "source": [
    " link_img=bs.find('div',attrs={'class':'img-layer'}).find('img').get('src')            \n",
    "#this prompt is equall with prompt 154"
   ]
  },
  {
   "cell_type": "code",
   "execution_count": 26,
   "id": "5a9dba57",
   "metadata": {},
   "outputs": [
    {
     "data": {
      "text/plain": [
       "'/img/LazyLoad.png'"
      ]
     },
     "execution_count": 26,
     "metadata": {},
     "output_type": "execute_result"
    }
   ],
   "source": [
    " link_img"
   ]
  },
  {
   "cell_type": "markdown",
   "id": "7621cf1d",
   "metadata": {},
   "source": [
    "# extract  for all post"
   ]
  },
  {
   "cell_type": "code",
   "execution_count": null,
   "id": "03d61638",
   "metadata": {},
   "outputs": [],
   "source": []
  },
  {
   "cell_type": "code",
   "execution_count": 40,
   "id": "3bd45d5d",
   "metadata": {},
   "outputs": [],
   "source": [
    "title_all=last_post.findAll('div',attrs={'class':'col-lg-3 col-md-4 col-sm-6 col-xs-6 course-col'})\n",
    "time_all=last_post.findAll('div',attrs={'class':'detail'})\n",
    "price_all=last_post.findAll('div',attrs={'class':'detail'})\n",
    "writer_all=last_post.findAll('div',attrs={'class':'top'})\n",
    "link_all=last_post.findAll('div',attrs={'class':'box-shadow'})"
   ]
  },
  {
   "cell_type": "code",
   "execution_count": 42,
   "id": "df6477e9",
   "metadata": {},
   "outputs": [
    {
     "data": {
      "text/plain": [
       "[16, 16, 16, 16, 16]"
      ]
     },
     "execution_count": 42,
     "metadata": {},
     "output_type": "execute_result"
    }
   ],
   "source": [
    "len_each_item=[\n",
    "    len(title_all),len(time_all),\n",
    "    len(price_all),len(writer_all),\n",
    "    len(link_all)\n",
    "]\n",
    "len_each_item\n",
    "  "
   ]
  },
  {
   "cell_type": "code",
   "execution_count": 29,
   "id": "299e9dc3",
   "metadata": {},
   "outputs": [],
   "source": [
    "title_list=[]\n",
    "time_list=[]\n",
    "price_list=[]\n",
    "writer_list=[]\n",
    "link_list=[]"
   ]
  },
  {
   "cell_type": "code",
   "execution_count": 44,
   "id": "130e8d99",
   "metadata": {},
   "outputs": [
    {
     "data": {
      "text/plain": [
       "'title_list    \\ntime_list\\nprice_list\\nwriter_list'"
      ]
     },
     "execution_count": 44,
     "metadata": {},
     "output_type": "execute_result"
    }
   ],
   "source": [
    "if len(set(len_each_item))==1:\n",
    "    for i in range(0,len_each_item[0]):\n",
    "        title_list.append(title_all[i].find('h2').get_text())\n",
    "        time_list.append(time_all[i].find('span',attrs={'class':'time'}).get_text().strip())\n",
    "        price_list.append(price_all[i].find('span',attrs={'class':'price'}).get_text().strip())\n",
    "        writer_list.append(writer_all[i].find('a').get_text().strip())\n",
    "        link_list.append(link_all[i].find('h2').find('a')['href'])\n",
    "else:\n",
    "        print('sorry! missing value,the len is not equal')\n",
    "\"\"\"title_list    \n",
    "time_list\n",
    "price_list\n",
    "writer_list\"\"\""
   ]
  },
  {
   "cell_type": "markdown",
   "id": "8ba0e2dd",
   "metadata": {},
   "source": [
    "# sort data in table and use datafram"
   ]
  },
  {
   "cell_type": "code",
   "execution_count": 47,
   "id": "f758666c",
   "metadata": {},
   "outputs": [],
   "source": [
    "df=pd.DataFrame(list(zip(title_list,time_list,\n",
    "price_list,writer_list,link_list)),columns=['Title','Time','Price','Writer','Link'])"
   ]
  },
  {
   "cell_type": "code",
   "execution_count": 48,
   "id": "b570f8a4",
   "metadata": {},
   "outputs": [
    {
     "data": {
      "text/html": [
       "<div>\n",
       "<style scoped>\n",
       "    .dataframe tbody tr th:only-of-type {\n",
       "        vertical-align: middle;\n",
       "    }\n",
       "\n",
       "    .dataframe tbody tr th {\n",
       "        vertical-align: top;\n",
       "    }\n",
       "\n",
       "    .dataframe thead th {\n",
       "        text-align: right;\n",
       "    }\n",
       "</style>\n",
       "<table border=\"1\" class=\"dataframe\">\n",
       "  <thead>\n",
       "    <tr style=\"text-align: right;\">\n",
       "      <th></th>\n",
       "      <th>Title</th>\n",
       "      <th>Time</th>\n",
       "      <th>Price</th>\n",
       "      <th>Writer</th>\n",
       "      <th>Link</th>\n",
       "    </tr>\n",
       "  </thead>\n",
       "  <tbody>\n",
       "    <tr>\n",
       "      <th>0</th>\n",
       "      <td>آموزش جامع ابزارهای هوش مصنوعی</td>\n",
       "      <td>5:41:00</td>\n",
       "      <td>480,000  تومان</td>\n",
       "      <td>موسوی</td>\n",
       "      <td>/courses/windows/%D8%A2%D9%85%D9%88%D8%B2%D8%B...</td>\n",
       "    </tr>\n",
       "    <tr>\n",
       "      <th>1</th>\n",
       "      <td>آموزش جامع ابزارهای هوش مصنوعی</td>\n",
       "      <td>5:41:00</td>\n",
       "      <td>480,000  تومان</td>\n",
       "      <td>موسوی</td>\n",
       "      <td>/courses/windows/%D8%A2%D9%85%D9%88%D8%B2%D8%B...</td>\n",
       "    </tr>\n",
       "    <tr>\n",
       "      <th>2</th>\n",
       "      <td>آموزش جامع ابزارهای هوش مصنوعی</td>\n",
       "      <td>5:41:00</td>\n",
       "      <td>480,000  تومان</td>\n",
       "      <td>موسوی</td>\n",
       "      <td>/courses/web-design/%D8%A2%D9%85%D9%88%D8%B2%D...</td>\n",
       "    </tr>\n",
       "    <tr>\n",
       "      <th>3</th>\n",
       "      <td>آموزش جامع مبانی هوش مصنوعی دوره تخصصی یادگیر...</td>\n",
       "      <td>8:55:00</td>\n",
       "      <td>300,000  تومان</td>\n",
       "      <td>تقی پور</td>\n",
       "      <td>/courses/web/%D8%A2%D9%85%D9%88%D8%B2%D8%B4-%D...</td>\n",
       "    </tr>\n",
       "    <tr>\n",
       "      <th>4</th>\n",
       "      <td>آموزش ساخت اپلیکیشن Discord با MERN و WebRTC</td>\n",
       "      <td>6:28:00</td>\n",
       "      <td>350,000  تومان</td>\n",
       "      <td>میرزایی کلخوران</td>\n",
       "      <td>/courses/web/%D8%A2%D9%85%D9%88%D8%B2%D8%B4-%D...</td>\n",
       "    </tr>\n",
       "    <tr>\n",
       "      <th>5</th>\n",
       "      <td>آموزش پروژه محور ساخت وبسایت خبری با Asp.Net ...</td>\n",
       "      <td>4:34:00</td>\n",
       "      <td>800,000  تومان</td>\n",
       "      <td>افساء</td>\n",
       "      <td>/courses/web/%D8%AF%D9%88%D8%B1%D9%87-%D8%A2%D...</td>\n",
       "    </tr>\n",
       "    <tr>\n",
       "      <th>6</th>\n",
       "      <td>آموزش پروژه محور لاراول</td>\n",
       "      <td>0:43:00</td>\n",
       "      <td>350,000  تومان</td>\n",
       "      <td>منتظر</td>\n",
       "      <td>/courses/windows/%D9%81%D8%A7%D8%B1%D8%B3%DB%8...</td>\n",
       "    </tr>\n",
       "    <tr>\n",
       "      <th>7</th>\n",
       "      <td>دوره آموزش ساخت یک وبلاگ شخصی با Asp.Net Core...</td>\n",
       "      <td>3:40:00</td>\n",
       "      <td>90,000  تومان</td>\n",
       "      <td>رضازاده</td>\n",
       "      <td>/courses/windows/%D8%A2%D9%85%D9%88%D8%B2%D8%B...</td>\n",
       "    </tr>\n",
       "    <tr>\n",
       "      <th>8</th>\n",
       "      <td>فارسی نوشتن در اتوکد (َAutocad)</td>\n",
       "      <td>0:16:00</td>\n",
       "      <td>رایگانـ</td>\n",
       "      <td>ذبیح اله زاده</td>\n",
       "      <td>/courses/web/%D9%85%D8%AA%D8%AE%D8%B5%D8%B5-%D...</td>\n",
       "    </tr>\n",
       "    <tr>\n",
       "      <th>9</th>\n",
       "      <td>آموزش طراحی سیستم شخصی سازی (ماشین) در یونیتی</td>\n",
       "      <td>1:30:00</td>\n",
       "      <td>350,000  تومان</td>\n",
       "      <td>خزائی زاد</td>\n",
       "      <td>/courses/web-design/%D8%AC%D8%A7%D9%88%D8%A7-%...</td>\n",
       "    </tr>\n",
       "    <tr>\n",
       "      <th>10</th>\n",
       "      <td>متخصص لاراول 1</td>\n",
       "      <td>1:35:00</td>\n",
       "      <td>225,000  تومان</td>\n",
       "      <td>قاسمی زرگر</td>\n",
       "      <td>/courses/windows/%D8%A2%D9%85%D9%88%D8%B2%D8%B...</td>\n",
       "    </tr>\n",
       "    <tr>\n",
       "      <th>11</th>\n",
       "      <td>جاوا اسکریپت مقدماتی</td>\n",
       "      <td>1:27:00</td>\n",
       "      <td>200,000  تومان</td>\n",
       "      <td>پور</td>\n",
       "      <td>/courses/web-design/%D8%A2%D9%85%D9%88%D8%B2%D...</td>\n",
       "    </tr>\n",
       "    <tr>\n",
       "      <th>12</th>\n",
       "      <td>آموزش اتوکد 2 بعدی (Autocad)</td>\n",
       "      <td>2:45:00</td>\n",
       "      <td>رایگانـ</td>\n",
       "      <td>ذبیح اله زاده</td>\n",
       "      <td>/courses/web/%D8%A2%D9%85%D9%88%D8%B2%D8%B4-do...</td>\n",
       "    </tr>\n",
       "    <tr>\n",
       "      <th>13</th>\n",
       "      <td>آموزش صفر تا صد ReactJs</td>\n",
       "      <td>75:34:00</td>\n",
       "      <td>560,000  تومان</td>\n",
       "      <td>قربانی</td>\n",
       "      <td>/courses/operating-system/%D8%A2%D9%85%D9%88%D...</td>\n",
       "    </tr>\n",
       "    <tr>\n",
       "      <th>14</th>\n",
       "      <td>آموزش Domain Driven Design (DDD) در .Net</td>\n",
       "      <td>11:46:00</td>\n",
       "      <td>450,000  تومان</td>\n",
       "      <td>معاصر</td>\n",
       "      <td>/courses/web/%D8%AF%D9%88%D8%B1%D9%87-%D8%AC%D...</td>\n",
       "    </tr>\n",
       "    <tr>\n",
       "      <th>15</th>\n",
       "      <td>آموزش جامع Agile</td>\n",
       "      <td>3:41:00</td>\n",
       "      <td>356,490  تومان</td>\n",
       "      <td>نبهانی</td>\n",
       "      <td>/courses/web/%D8%A2%D9%85%D9%88%D8%B2%D8%B4-%D...</td>\n",
       "    </tr>\n",
       "  </tbody>\n",
       "</table>\n",
       "</div>"
      ],
      "text/plain": [
       "                                                Title      Time  \\\n",
       "0                     آموزش جامع ابزارهای هوش مصنوعی    5:41:00   \n",
       "1                     آموزش جامع ابزارهای هوش مصنوعی    5:41:00   \n",
       "2                     آموزش جامع ابزارهای هوش مصنوعی    5:41:00   \n",
       "3    آموزش جامع مبانی هوش مصنوعی دوره تخصصی یادگیر...   8:55:00   \n",
       "4       آموزش ساخت اپلیکیشن Discord با MERN و WebRTC    6:28:00   \n",
       "5    آموزش پروژه محور ساخت وبسایت خبری با Asp.Net ...   4:34:00   \n",
       "6                            آموزش پروژه محور لاراول    0:43:00   \n",
       "7    دوره آموزش ساخت یک وبلاگ شخصی با Asp.Net Core...   3:40:00   \n",
       "8                    فارسی نوشتن در اتوکد (َAutocad)    0:16:00   \n",
       "9      آموزش طراحی سیستم شخصی سازی (ماشین) در یونیتی    1:30:00   \n",
       "10                                    متخصص لاراول 1    1:35:00   \n",
       "11                              جاوا اسکریپت مقدماتی    1:27:00   \n",
       "12                      آموزش اتوکد 2 بعدی (Autocad)    2:45:00   \n",
       "13                           آموزش صفر تا صد ReactJs   75:34:00   \n",
       "14          آموزش Domain Driven Design (DDD) در .Net   11:46:00   \n",
       "15                                  آموزش جامع Agile    3:41:00   \n",
       "\n",
       "             Price           Writer  \\\n",
       "0   480,000  تومان            موسوی   \n",
       "1   480,000  تومان            موسوی   \n",
       "2   480,000  تومان            موسوی   \n",
       "3   300,000  تومان          تقی پور   \n",
       "4   350,000  تومان  میرزایی کلخوران   \n",
       "5   800,000  تومان            افساء   \n",
       "6   350,000  تومان            منتظر   \n",
       "7    90,000  تومان          رضازاده   \n",
       "8          رایگانـ    ذبیح اله زاده   \n",
       "9   350,000  تومان        خزائی زاد   \n",
       "10  225,000  تومان       قاسمی زرگر   \n",
       "11  200,000  تومان              پور   \n",
       "12         رایگانـ    ذبیح اله زاده   \n",
       "13  560,000  تومان           قربانی   \n",
       "14  450,000  تومان            معاصر   \n",
       "15  356,490  تومان           نبهانی   \n",
       "\n",
       "                                                 Link  \n",
       "0   /courses/windows/%D8%A2%D9%85%D9%88%D8%B2%D8%B...  \n",
       "1   /courses/windows/%D8%A2%D9%85%D9%88%D8%B2%D8%B...  \n",
       "2   /courses/web-design/%D8%A2%D9%85%D9%88%D8%B2%D...  \n",
       "3   /courses/web/%D8%A2%D9%85%D9%88%D8%B2%D8%B4-%D...  \n",
       "4   /courses/web/%D8%A2%D9%85%D9%88%D8%B2%D8%B4-%D...  \n",
       "5   /courses/web/%D8%AF%D9%88%D8%B1%D9%87-%D8%A2%D...  \n",
       "6   /courses/windows/%D9%81%D8%A7%D8%B1%D8%B3%DB%8...  \n",
       "7   /courses/windows/%D8%A2%D9%85%D9%88%D8%B2%D8%B...  \n",
       "8   /courses/web/%D9%85%D8%AA%D8%AE%D8%B5%D8%B5-%D...  \n",
       "9   /courses/web-design/%D8%AC%D8%A7%D9%88%D8%A7-%...  \n",
       "10  /courses/windows/%D8%A2%D9%85%D9%88%D8%B2%D8%B...  \n",
       "11  /courses/web-design/%D8%A2%D9%85%D9%88%D8%B2%D...  \n",
       "12  /courses/web/%D8%A2%D9%85%D9%88%D8%B2%D8%B4-do...  \n",
       "13  /courses/operating-system/%D8%A2%D9%85%D9%88%D...  \n",
       "14  /courses/web/%D8%AF%D9%88%D8%B1%D9%87-%D8%AC%D...  \n",
       "15  /courses/web/%D8%A2%D9%85%D9%88%D8%B2%D8%B4-%D...  "
      ]
     },
     "execution_count": 48,
     "metadata": {},
     "output_type": "execute_result"
    }
   ],
   "source": [
    "df"
   ]
  },
  {
   "cell_type": "code",
   "execution_count": null,
   "id": "7790c6a1",
   "metadata": {},
   "outputs": [],
   "source": []
  }
 ],
 "metadata": {
  "kernelspec": {
   "display_name": "Python 3 (ipykernel)",
   "language": "python",
   "name": "python3"
  },
  "language_info": {
   "codemirror_mode": {
    "name": "ipython",
    "version": 3
   },
   "file_extension": ".py",
   "mimetype": "text/x-python",
   "name": "python",
   "nbconvert_exporter": "python",
   "pygments_lexer": "ipython3",
   "version": "3.11.3"
  }
 },
 "nbformat": 4,
 "nbformat_minor": 5
}
